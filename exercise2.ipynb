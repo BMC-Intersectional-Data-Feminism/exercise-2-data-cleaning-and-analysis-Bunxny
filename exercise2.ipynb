{
 "cells": [
  {
   "cell_type": "markdown",
   "metadata": {},
   "source": [
    "# Exercise 2: Data Processing and Analysis"
   ]
  },
  {
   "cell_type": "code",
   "execution_count": 401,
   "metadata": {},
   "outputs": [
    {
     "data": {
      "text/plain": [
       "'\\ntry:\\n    from gofer.ok import check\\nexcept:\\n    %pip install git+https://github.com/grading/gradememaybe.git\\n    from gofer.ok import check\\n'"
      ]
     },
     "execution_count": 401,
     "metadata": {},
     "output_type": "execute_result"
    }
   ],
   "source": [
    "import pandas as pd \n",
    "import matplotlib.pyplot as plt\n",
    "import seaborn as sns\n",
    "import numpy as np\n",
    "try:\n",
    "   import otter\n",
    "   grader = otter.Notebook()\n",
    "except:\n",
    "    !pip install otter-grader\n",
    "    import otter\n",
    "    grader = otter.Notebook()\n",
    "\"\"\"\n",
    "try:\n",
    "    from gofer.ok import check\n",
    "except:\n",
    "    %pip install git+https://github.com/grading/gradememaybe.git\n",
    "    from gofer.ok import check\n",
    "\"\"\""
   ]
  },
  {
   "cell_type": "markdown",
   "metadata": {},
   "source": [
    "Today we're working with simulated smartwatch health data. You'll notice when you read in the csv file that we have 7 columns: User ID, Heart Rate (BPM), Blood Oxygen Level (%), Step Count, Sleep Duration (hours), Activity Level, and Stress Level. We're going to go through and \"clean up\" the data so that we can calculate some basic statistics such as mean, median, minimum, and maximum for each variable. Run the cell below to read in the table saving it in the variable `smartwatch`. "
   ]
  },
  {
   "cell_type": "code",
   "execution_count": 402,
   "metadata": {},
   "outputs": [
    {
     "data": {
      "text/html": [
       "<div>\n",
       "<style scoped>\n",
       "    .dataframe tbody tr th:only-of-type {\n",
       "        vertical-align: middle;\n",
       "    }\n",
       "\n",
       "    .dataframe tbody tr th {\n",
       "        vertical-align: top;\n",
       "    }\n",
       "\n",
       "    .dataframe thead th {\n",
       "        text-align: right;\n",
       "    }\n",
       "</style>\n",
       "<table border=\"1\" class=\"dataframe\">\n",
       "  <thead>\n",
       "    <tr style=\"text-align: right;\">\n",
       "      <th></th>\n",
       "      <th>User ID</th>\n",
       "      <th>Heart Rate (BPM)</th>\n",
       "      <th>Blood Oxygen Level (%)</th>\n",
       "      <th>Step Count</th>\n",
       "      <th>Sleep Duration (hours)</th>\n",
       "      <th>Activity Level</th>\n",
       "      <th>Stress Level</th>\n",
       "    </tr>\n",
       "  </thead>\n",
       "  <tbody>\n",
       "    <tr>\n",
       "      <th>0</th>\n",
       "      <td>4174.0</td>\n",
       "      <td>58.939776</td>\n",
       "      <td>98.809650</td>\n",
       "      <td>5450.390578</td>\n",
       "      <td>7.167235622316564</td>\n",
       "      <td>Highly Active</td>\n",
       "      <td>1</td>\n",
       "    </tr>\n",
       "    <tr>\n",
       "      <th>1</th>\n",
       "      <td>NaN</td>\n",
       "      <td>NaN</td>\n",
       "      <td>98.532195</td>\n",
       "      <td>727.601610</td>\n",
       "      <td>6.538239375570314</td>\n",
       "      <td>Highly_Active</td>\n",
       "      <td>5</td>\n",
       "    </tr>\n",
       "    <tr>\n",
       "      <th>2</th>\n",
       "      <td>1860.0</td>\n",
       "      <td>247.803052</td>\n",
       "      <td>97.052954</td>\n",
       "      <td>2826.521994</td>\n",
       "      <td>ERROR</td>\n",
       "      <td>Highly Active</td>\n",
       "      <td>5</td>\n",
       "    </tr>\n",
       "    <tr>\n",
       "      <th>3</th>\n",
       "      <td>2294.0</td>\n",
       "      <td>40.000000</td>\n",
       "      <td>96.894213</td>\n",
       "      <td>13797.338044</td>\n",
       "      <td>7.367789630207228</td>\n",
       "      <td>Actve</td>\n",
       "      <td>3</td>\n",
       "    </tr>\n",
       "    <tr>\n",
       "      <th>4</th>\n",
       "      <td>2130.0</td>\n",
       "      <td>61.950165</td>\n",
       "      <td>98.583797</td>\n",
       "      <td>15679.067648</td>\n",
       "      <td>NaN</td>\n",
       "      <td>Highly_Active</td>\n",
       "      <td>6</td>\n",
       "    </tr>\n",
       "    <tr>\n",
       "      <th>...</th>\n",
       "      <td>...</td>\n",
       "      <td>...</td>\n",
       "      <td>...</td>\n",
       "      <td>...</td>\n",
       "      <td>...</td>\n",
       "      <td>...</td>\n",
       "      <td>...</td>\n",
       "    </tr>\n",
       "    <tr>\n",
       "      <th>9995</th>\n",
       "      <td>1524.0</td>\n",
       "      <td>78.819386</td>\n",
       "      <td>98.931927</td>\n",
       "      <td>2948.491953</td>\n",
       "      <td>7.402748595032027</td>\n",
       "      <td>Active</td>\n",
       "      <td>7</td>\n",
       "    </tr>\n",
       "    <tr>\n",
       "      <th>9996</th>\n",
       "      <td>4879.0</td>\n",
       "      <td>48.632659</td>\n",
       "      <td>95.773035</td>\n",
       "      <td>4725.623070</td>\n",
       "      <td>6.3821659358529015</td>\n",
       "      <td>Sedentary</td>\n",
       "      <td>2</td>\n",
       "    </tr>\n",
       "    <tr>\n",
       "      <th>9997</th>\n",
       "      <td>2624.0</td>\n",
       "      <td>73.834442</td>\n",
       "      <td>97.945874</td>\n",
       "      <td>2571.492060</td>\n",
       "      <td>6.91654920303435</td>\n",
       "      <td>Sedentary</td>\n",
       "      <td>4</td>\n",
       "    </tr>\n",
       "    <tr>\n",
       "      <th>9998</th>\n",
       "      <td>4907.0</td>\n",
       "      <td>NaN</td>\n",
       "      <td>98.401058</td>\n",
       "      <td>3364.788855</td>\n",
       "      <td>5.691233932149209</td>\n",
       "      <td>Active</td>\n",
       "      <td>8</td>\n",
       "    </tr>\n",
       "    <tr>\n",
       "      <th>9999</th>\n",
       "      <td>4113.0</td>\n",
       "      <td>70.063864</td>\n",
       "      <td>98.475606</td>\n",
       "      <td>544.696104</td>\n",
       "      <td>5.691001039740254</td>\n",
       "      <td>Actve</td>\n",
       "      <td>5</td>\n",
       "    </tr>\n",
       "  </tbody>\n",
       "</table>\n",
       "<p>10000 rows × 7 columns</p>\n",
       "</div>"
      ],
      "text/plain": [
       "      User ID  Heart Rate (BPM)  Blood Oxygen Level (%)    Step Count  \\\n",
       "0      4174.0         58.939776               98.809650   5450.390578   \n",
       "1         NaN               NaN               98.532195    727.601610   \n",
       "2      1860.0        247.803052               97.052954   2826.521994   \n",
       "3      2294.0         40.000000               96.894213  13797.338044   \n",
       "4      2130.0         61.950165               98.583797  15679.067648   \n",
       "...       ...               ...                     ...           ...   \n",
       "9995   1524.0         78.819386               98.931927   2948.491953   \n",
       "9996   4879.0         48.632659               95.773035   4725.623070   \n",
       "9997   2624.0         73.834442               97.945874   2571.492060   \n",
       "9998   4907.0               NaN               98.401058   3364.788855   \n",
       "9999   4113.0         70.063864               98.475606    544.696104   \n",
       "\n",
       "     Sleep Duration (hours) Activity Level Stress Level  \n",
       "0         7.167235622316564  Highly Active            1  \n",
       "1         6.538239375570314  Highly_Active            5  \n",
       "2                     ERROR  Highly Active            5  \n",
       "3         7.367789630207228          Actve            3  \n",
       "4                       NaN  Highly_Active            6  \n",
       "...                     ...            ...          ...  \n",
       "9995      7.402748595032027         Active            7  \n",
       "9996     6.3821659358529015      Sedentary            2  \n",
       "9997       6.91654920303435      Sedentary            4  \n",
       "9998      5.691233932149209         Active            8  \n",
       "9999      5.691001039740254          Actve            5  \n",
       "\n",
       "[10000 rows x 7 columns]"
      ]
     },
     "execution_count": 402,
     "metadata": {},
     "output_type": "execute_result"
    }
   ],
   "source": [
    "smartwatch = pd.read_csv(\"unclean_smartwatch_health_data.csv\")\n",
    "smartwatch"
   ]
  },
  {
   "cell_type": "markdown",
   "metadata": {},
   "source": [
    "Let's start together with the Heart Rate column. Just looking at the preview table above we can see two things right away: (1) we have `NaN` values meaning data was not collected for those individuals, and (2) some of the heart rate values are abnormally high i.e. `247.803052`. Let's see what the entire range of values look like. "
   ]
  },
  {
   "cell_type": "code",
   "execution_count": 403,
   "metadata": {},
   "outputs": [
    {
     "name": "stdout",
     "output_type": "stream",
     "text": [
      "40.0 296.5939695131042\n"
     ]
    }
   ],
   "source": [
    "print(smartwatch['Heart Rate (BPM)'].min(), smartwatch['Heart Rate (BPM)'].max())"
   ]
  },
  {
   "cell_type": "markdown",
   "metadata": {},
   "source": [
    "**Question 1**: Set the variables below equal to the minimum heart rate and the maximum heart rate in the dataset. This is just practice for the method of checking answers as you go. Afterwards run the cell below to check your answer. "
   ]
  },
  {
   "cell_type": "code",
   "execution_count": 404,
   "metadata": {},
   "outputs": [
    {
     "name": "stdout",
     "output_type": "stream",
     "text": [
      "40.0 296.5939695131042\n"
     ]
    }
   ],
   "source": [
    "minimumHeartRate = smartwatch['Heart Rate (BPM)'].min()\n",
    "maximumHeartRate = float(smartwatch['Heart Rate (BPM)'].max())\n",
    "print(minimumHeartRate, maximumHeartRate)"
   ]
  },
  {
   "cell_type": "code",
   "execution_count": 405,
   "metadata": {},
   "outputs": [
    {
     "data": {
      "text/html": [
       "<p><strong><pre style='display: inline;'>Question 1</pre></strong> passed! 🍀</p>"
      ],
      "text/plain": [
       "Question 1 results: All test cases passed!"
      ]
     },
     "execution_count": 405,
     "metadata": {},
     "output_type": "execute_result"
    }
   ],
   "source": [
    "grader.check('q1')"
   ]
  },
  {
   "cell_type": "markdown",
   "metadata": {},
   "source": [
    "Notice that the maximum value of `296` beats per minimute is WAY above normal range of heart rates. In fact, according to [heart.org](https://www.heart.org/en/healthy-living/fitness/fitness-basics/target-heart-rates) the highest estimated heart rate based on age ranges from 150 to 200 for adults. This will vary between individuals, but this is a good starting point for us to think about outliers in the heart rate values in this dataset. Let's see how many rows have missing data or heart rates above 200. "
   ]
  },
  {
   "cell_type": "code",
   "execution_count": 406,
   "metadata": {},
   "outputs": [
    {
     "name": "stdout",
     "output_type": "stream",
     "text": [
      "450\n"
     ]
    }
   ],
   "source": [
    "## select rows where Heart Rate is NaN or rows where the heart rate is above 200. \n",
    "# Emphasis on the usage of 'or' here, we want rows where either \n",
    "# scenario 1 (NaN) OR scenario 2 (>200) is true. \n",
    "\n",
    "outlierHeartRaterows = smartwatch[smartwatch['Heart Rate (BPM)'] > 200]\n",
    "nullHeartRaterows = smartwatch[smartwatch['Heart Rate (BPM)'].isnull()]\n",
    "\n",
    "print(len(outlierHeartRaterows) + len(nullHeartRaterows))"
   ]
  },
  {
   "cell_type": "code",
   "execution_count": 407,
   "metadata": {},
   "outputs": [
    {
     "name": "stdout",
     "output_type": "stream",
     "text": [
      "      User ID  Heart Rate (BPM)  Blood Oxygen Level (%)    Step Count  \\\n",
      "0      4174.0         58.939776               98.809650   5450.390578   \n",
      "3      2294.0         40.000000               96.894213  13797.338044   \n",
      "4      2130.0         61.950165               98.583797  15679.067648   \n",
      "5      2095.0         96.285938               94.202910  10205.992256   \n",
      "6      4772.0         47.272257               95.389760   3208.781177   \n",
      "...       ...               ...                     ...           ...   \n",
      "9994   1942.0         77.912299               98.640583  10061.145291   \n",
      "9995   1524.0         78.819386               98.931927   2948.491953   \n",
      "9996   4879.0         48.632659               95.773035   4725.623070   \n",
      "9997   2624.0         73.834442               97.945874   2571.492060   \n",
      "9999   4113.0         70.063864               98.475606    544.696104   \n",
      "\n",
      "     Sleep Duration (hours) Activity Level Stress Level  \n",
      "0         7.167235622316564  Highly Active            1  \n",
      "3         7.367789630207228          Actve            3  \n",
      "4                       NaN  Highly_Active            6  \n",
      "5         8.378342673824589  Highly_Active           10  \n",
      "6         7.871146008904113     Seddentary            2  \n",
      "...                     ...            ...          ...  \n",
      "9994      5.428634630125767     Seddentary           10  \n",
      "9995      7.402748595032027         Active            7  \n",
      "9996     6.3821659358529015      Sedentary            2  \n",
      "9997       6.91654920303435      Sedentary            4  \n",
      "9999      5.691001039740254          Actve            5  \n",
      "\n",
      "[9550 rows x 7 columns]\n"
     ]
    }
   ],
   "source": [
    "## Now let's get a table of all the other rows. \n",
    "\n",
    "heartrateRows = smartwatch[(~smartwatch['Heart Rate (BPM)'].isnull()) & (smartwatch['Heart Rate (BPM)'] <= 200)]\n",
    "print(heartrateRows)"
   ]
  },
  {
   "cell_type": "markdown",
   "metadata": {},
   "source": [
    "**Question 2:** \n",
    "\n",
    "Notice here that the length of the two tables (`450` and `9550`) add up to the total number rows (`n=10000`). This is a good sanity check as we manipulate the table. Now we have to decide how we deal with these missing values and outliers. One method to do this would be remove all the rows with null values or outlier values. Another method is use imputation - this can be done in several ways but below we're going to substitute the average heart rate for the missing and mismeasured values. Do we think this will change the mean?"
   ]
  },
  {
   "cell_type": "code",
   "execution_count": 408,
   "metadata": {},
   "outputs": [
    {
     "name": "stdout",
     "output_type": "stream",
     "text": [
      "75.13268404820141\n"
     ]
    }
   ],
   "source": [
    "HeartRateMean = float(heartrateRows['Heart Rate (BPM)'].mean())\n",
    "print(HeartRateMean)\n"
   ]
  },
  {
   "cell_type": "code",
   "execution_count": 409,
   "metadata": {},
   "outputs": [
    {
     "name": "stdout",
     "output_type": "stream",
     "text": [
      "      User ID  Heart Rate (BPM)  Blood Oxygen Level (%)    Step Count  \\\n",
      "2      1860.0         75.132684               97.052954   2826.521994   \n",
      "337    2369.0         75.132684               95.441773   2998.761919   \n",
      "393    2443.0         75.132684               95.497181   1227.804688   \n",
      "403    3200.0         75.132684               96.011492   9402.746140   \n",
      "595    2129.0         75.132684               97.161853   2555.402184   \n",
      "649    2008.0         75.132684               98.356789   2739.171166   \n",
      "818    3156.0         75.132684                     NaN   7281.778831   \n",
      "1195   3261.0         75.132684               99.652006   2867.872064   \n",
      "1391   4621.0         75.132684               96.688083  20577.677290   \n",
      "1602   4737.0         75.132684               95.095839  16072.283561   \n",
      "2023      NaN         75.132684               99.032130  17620.765455   \n",
      "2211   2711.0         75.132684               97.852781   1786.998129   \n",
      "2212   4020.0         75.132684               95.280955   3794.430590   \n",
      "2338   1762.0         75.132684               96.026123   9969.240744   \n",
      "2454   4902.0         75.132684               97.092166  11843.255005   \n",
      "3113   1035.0         75.132684               94.120618   5303.010562   \n",
      "3235   4478.0         75.132684               97.295126   2402.047207   \n",
      "3354   4976.0         75.132684               96.703748   4265.937611   \n",
      "3451   2768.0         75.132684               96.761963   4723.116194   \n",
      "3886   3856.0         75.132684               96.440489    841.196042   \n",
      "3983   1597.0         75.132684               99.396872  23860.187292   \n",
      "4146   1574.0         75.132684               98.386439   4255.759517   \n",
      "4185   4643.0         75.132684               95.415588  54698.646371   \n",
      "4254   3563.0         75.132684               95.768379   5871.602913   \n",
      "4275   1844.0         75.132684               97.847790   1855.481139   \n",
      "4366   2655.0         75.132684              100.000000  11331.922879   \n",
      "4509   4642.0         75.132684               97.983060   8526.218347   \n",
      "4521   4629.0         75.132684              100.000000   5614.112857   \n",
      "4780   2003.0         75.132684               98.242375   5299.159731   \n",
      "4792   3530.0         75.132684               99.960103   5396.348537   \n",
      "4833   4829.0         75.132684               97.920202  17207.114700   \n",
      "5090   4797.0         75.132684               98.647925   2604.794451   \n",
      "5170   2023.0         75.132684               94.316370    789.259057   \n",
      "5265   3277.0         75.132684              100.000000  10180.369091   \n",
      "5870   1499.0         75.132684               96.833301           NaN   \n",
      "6135   1389.0         75.132684               96.558205   2240.873043   \n",
      "6376   3218.0         75.132684               98.446205   8287.695252   \n",
      "6726   2338.0         75.132684               95.948327   3935.287388   \n",
      "6974   1935.0         75.132684               94.263021  25043.512031   \n",
      "7897   3488.0         75.132684               93.422300   1167.050964   \n",
      "8369   2283.0         75.132684                     NaN  21495.639335   \n",
      "8471   2706.0         75.132684               96.239663  19209.243829   \n",
      "8692   1698.0         75.132684               96.382266   3225.230149   \n",
      "8895   3294.0         75.132684              100.000000  18039.603487   \n",
      "8997      NaN         75.132684               96.643436   4226.877196   \n",
      "9164   3381.0         75.132684               98.982453   5247.004522   \n",
      "9438   4411.0         75.132684               99.524016  11209.020829   \n",
      "9654   2898.0         75.132684               96.082553     45.956119   \n",
      "9665   2069.0         75.132684               96.509094   5002.019249   \n",
      "9752   4683.0         75.132684               97.371766   5759.938203   \n",
      "\n",
      "     Sleep Duration (hours) Activity Level Stress Level  \n",
      "2                     ERROR  Highly Active            5  \n",
      "337       6.670622263019579  Highly Active            9  \n",
      "393       5.185244686595328  Highly_Active            9  \n",
      "403       7.190062873693008  Highly_Active            9  \n",
      "595       5.928628388578222  Highly Active            7  \n",
      "649       7.272009723254014  Highly_Active          NaN  \n",
      "818       4.300171191258864      Sedentary            3  \n",
      "1195      7.218530947169898         Active            7  \n",
      "1391      8.049854248644627         Active            3  \n",
      "1602       6.98847026102848          Actve            6  \n",
      "2023      7.641814526532746      Sedentary          NaN  \n",
      "2211      9.403363125752087         Active            5  \n",
      "2212      9.471210427832666     Seddentary            2  \n",
      "2338      7.434143975499938      Sedentary            4  \n",
      "2454     4.8230739165423175      Sedentary            5  \n",
      "3113      5.216491298730846         Active            4  \n",
      "3235       8.40664811517765     Seddentary            3  \n",
      "3354      6.272040953618372     Seddentary            4  \n",
      "3451      7.656776835132766  Highly Active            3  \n",
      "3886        8.5141016110168     Seddentary            7  \n",
      "3983       9.72770039263133  Highly Active           10  \n",
      "4146      9.950312577595927      Sedentary            1  \n",
      "4185        8.4611474189254            NaN           10  \n",
      "4254      6.169674782300074          Actve            3  \n",
      "4275      7.103458436811003      Sedentary            5  \n",
      "4366      6.252116628792069          Actve            8  \n",
      "4509      7.157804627096766  Highly Active            1  \n",
      "4521      6.304731924019175         Active            2  \n",
      "4780      8.471284845728434         Active            1  \n",
      "4792       5.03699852197675          Actve            4  \n",
      "4833       5.93139606422032  Highly_Active            3  \n",
      "5090      4.604169369845159  Highly Active            1  \n",
      "5170      4.456316515329178            NaN            6  \n",
      "5265      5.234907365011507      Sedentary            1  \n",
      "5870      7.221605491090915      Sedentary            9  \n",
      "6135      6.249638938845372  Highly_Active            7  \n",
      "6376      4.174557486059257  Highly Active           10  \n",
      "6726      9.145513040749627      Sedentary            1  \n",
      "6974      5.452934114413052  Highly_Active            6  \n",
      "7897     6.3843230507913775          Actve            7  \n",
      "8369      5.291653956497481  Highly_Active            2  \n",
      "8471       7.26153538491556          Actve            9  \n",
      "8692      6.801618776704774     Seddentary            6  \n",
      "8895      7.064974772457126         Active            9  \n",
      "8997     5.2023674086270795  Highly_Active            3  \n",
      "9164      9.026252817225515  Highly Active            6  \n",
      "9438                  ERROR  Highly Active            3  \n",
      "9654       5.63988977577483         Active            3  \n",
      "9665       7.82197109767565     Seddentary            2  \n",
      "9752      5.496136294267198      Sedentary            9  \n"
     ]
    },
    {
     "name": "stderr",
     "output_type": "stream",
     "text": [
      "/tmp/ipykernel_234060/936369900.py:1: SettingWithCopyWarning: \n",
      "A value is trying to be set on a copy of a slice from a DataFrame.\n",
      "Try using .loc[row_indexer,col_indexer] = value instead\n",
      "\n",
      "See the caveats in the documentation: https://pandas.pydata.org/pandas-docs/stable/user_guide/indexing.html#returning-a-view-versus-a-copy\n",
      "  outlierHeartRaterows['Heart Rate (BPM)'] = HeartRateMean\n",
      "/tmp/ipykernel_234060/936369900.py:2: SettingWithCopyWarning: \n",
      "A value is trying to be set on a copy of a slice from a DataFrame.\n",
      "Try using .loc[row_indexer,col_indexer] = value instead\n",
      "\n",
      "See the caveats in the documentation: https://pandas.pydata.org/pandas-docs/stable/user_guide/indexing.html#returning-a-view-versus-a-copy\n",
      "  nullHeartRaterows['Heart Rate (BPM)'] = HeartRateMean\n"
     ]
    }
   ],
   "source": [
    "outlierHeartRaterows['Heart Rate (BPM)'] = HeartRateMean\n",
    "nullHeartRaterows['Heart Rate (BPM)'] = HeartRateMean\n",
    "\n",
    "\n",
    "print(outlierHeartRaterows)"
   ]
  },
  {
   "cell_type": "code",
   "execution_count": 410,
   "metadata": {},
   "outputs": [
    {
     "name": "stdout",
     "output_type": "stream",
     "text": [
      "75.13268404820141\n",
      "True\n"
     ]
    }
   ],
   "source": [
    "smartwatch_hr = pd.concat([outlierHeartRaterows, nullHeartRaterows, heartrateRows])\n",
    "\n",
    "fullTableHRMean = float(smartwatch_hr['Heart Rate (BPM)'].mean())\n",
    "print(fullTableHRMean)\n",
    "print(fullTableHRMean == HeartRateMean)"
   ]
  },
  {
   "cell_type": "code",
   "execution_count": 411,
   "metadata": {},
   "outputs": [
    {
     "data": {
      "text/html": [
       "<p><strong><pre style='display: inline;'>Question 2</pre></strong> passed! 💯</p>"
      ],
      "text/plain": [
       "Question 2 results: All test cases passed!"
      ]
     },
     "execution_count": 411,
     "metadata": {},
     "output_type": "execute_result"
    }
   ],
   "source": [
    "grader.check('q2')"
   ]
  },
  {
   "cell_type": "markdown",
   "metadata": {},
   "source": [
    "Notice how the mean doesn't change when you use the imputed mean as the substituted values. However, as a note this will change the distribution of values and has the potential to obscure the causes of missing values or outliers. "
   ]
  },
  {
   "cell_type": "code",
   "execution_count": 412,
   "metadata": {},
   "outputs": [
    {
     "data": {
      "text/plain": [
       "<matplotlib.legend.Legend at 0x7897e3f3e540>"
      ]
     },
     "execution_count": 412,
     "metadata": {},
     "output_type": "execute_result"
    },
    {
     "data": {
      "image/png": "[encoded data removed]",
      "text/plain": [
       "<Figure size 640x480 with 1 Axes>"
      ]
     },
     "metadata": {},
     "output_type": "display_data"
    }
   ],
   "source": [
    "sns.histplot(smartwatch['Heart Rate (BPM)'], label ='With Missing Values and Outliers')\n",
    "sns.histplot(smartwatch_hr['Heart Rate (BPM)'], label = 'With Mean as Imputed Value')\n",
    "plt.legend()"
   ]
  },
  {
   "cell_type": "markdown",
   "metadata": {},
   "source": [
    "**Question 3**: How does the imputation method affect the median values?  Remember the table `smartwatch` remains unchanged and can be used to find the original median value. \n",
    "\n",
    "ANSWER: There is a small change between the median values where the imputed table's HR median is slightly higher than the original this is because we imputed the missing and high outlier values with the mean values shifting the median towrds the value of the mean value. Since there were many values replaced the median equals the mean"
   ]
  },
  {
   "cell_type": "code",
   "execution_count": 413,
   "metadata": {},
   "outputs": [
    {
     "name": "stdout",
     "output_type": "stream",
     "text": [
      "75.13268404820141\n",
      "75.22060125775644\n",
      "75.13268404820141\n"
     ]
    }
   ],
   "source": [
    "## coding cell to check the difference in median values \n",
    "print(smartwatch_hr['Heart Rate (BPM)'].median())\n",
    "print(smartwatch['Heart Rate (BPM)'].median())\n",
    "print(smartwatch_hr['Heart Rate (BPM)'].mean())"
   ]
  },
  {
   "cell_type": "markdown",
   "metadata": {},
   "source": [
    "Now let's repeat this process for the other columns as well. \n",
    "\n",
    "**Question 4**: Find the minimum, maximum, and mean Blood Oxygen Level. "
   ]
  },
  {
   "cell_type": "code",
   "execution_count": 414,
   "metadata": {},
   "outputs": [
    {
     "name": "stdout",
     "output_type": "stream",
     "text": [
      "90.79120814564097 100.0 97.84158102099076\n"
     ]
    }
   ],
   "source": [
    "minBloodO2 = smartwatch['Blood Oxygen Level (%)'].min()\n",
    "\n",
    "maxBloodO2 = smartwatch['Blood Oxygen Level (%)'].max()\n",
    "\n",
    "meanBloodO2 = smartwatch['Blood Oxygen Level (%)'].mean()\n",
    "\n",
    "print(minBloodO2, maxBloodO2, meanBloodO2)"
   ]
  },
  {
   "cell_type": "code",
   "execution_count": 415,
   "metadata": {},
   "outputs": [
    {
     "data": {
      "text/html": [
       "<p><strong><pre style='display: inline;'>Question 4</pre></strong> passed! 🌈</p>"
      ],
      "text/plain": [
       "Question 4 results: All test cases passed!"
      ]
     },
     "execution_count": 415,
     "metadata": {},
     "output_type": "execute_result"
    }
   ],
   "source": [
    "grader.check('q4')"
   ]
  },
  {
   "cell_type": "markdown",
   "metadata": {},
   "source": [
    "We can do some visualizations using a box plot to better decide if there's any outliers we'd like to remove. Maybe you decide that everything below 92.5 is an outlier should be removed or maybe you decide to keep all of the values or maybe you decide to remove all values under 94% since that falls outside of a normal, healthy range according to doctors (I would not suggest this last one as it would obscure quite a bit of data! But some analysts might consider it!). In question 5, you can make that decision and justify your answer. "
   ]
  },
  {
   "cell_type": "code",
   "execution_count": 416,
   "metadata": {},
   "outputs": [
    {
     "data": {
      "text/plain": [
       "<Axes: ylabel='Blood Oxygen Level (%)'>"
      ]
     },
     "execution_count": 416,
     "metadata": {},
     "output_type": "execute_result"
    },
    {
     "data": {
      "image/png": "[encoded data removed]",
      "text/plain": [
       "<Figure size 640x480 with 1 Axes>"
      ]
     },
     "metadata": {},
     "output_type": "display_data"
    }
   ],
   "source": [
    "sns.boxplot(smartwatch['Blood Oxygen Level (%)'])"
   ]
  },
  {
   "cell_type": "markdown",
   "metadata": {},
   "source": [
    "**Question 5**: Decide how you want to deal with missing and outlier values in the Blood Oxygen Level column. Set your final table equal to the variable `smartwatch_o2`. Use the space below to explain your decisions. \n",
    "\n",
    "Notes: Refer to [this article](https://pmc.ncbi.nlm.nih.gov/articles/PMC5548942/) on methods of handling these type of instances in data. Keep in mind, you might find that either there are no missing values or no outliers. That's okay, just indicate that in the written space below and update the table i.e. `smartwatch_o2 = smartwatch_hr`\n",
    "\n",
    "ANSWER: The outliers had no patterns to explain why most ranged from 90-92% and some individuals had other varibles that would contradict a low oxegen level indicating the values could be wrong, therefore we are removing the outliers. This is reasonable since it is a low percent(.3%) of the dataset and will not effect much. The missing values make up only 3% of the data and seem to be missing completely at random therfore we can remove them but to perserve data we can impute the data by the median (since the data is scewed).\n",
    "\n",
    "After trying to question 8 i found out deleting any values will not let me pass the test therefore we can impute missing values or windsorize outliers that were deleted to perserve values.Outliars will be replaced with second smallest min because most outliers are crossing the lower fence.\n"
   ]
  },
  {
   "cell_type": "code",
   "execution_count": 417,
   "metadata": {},
   "outputs": [
    {
     "name": "stdout",
     "output_type": "stream",
     "text": [
      "300\n",
      "9700\n",
      "0.03\n",
      "92.59243805432556\n",
      "103.44642433074375\n",
      "length 30\n",
      "      User ID  Heart Rate (BPM)  Blood Oxygen Level (%)    Step Count  \\\n",
      "389    4991.0         89.812696               92.003999   3197.915998   \n",
      "548    1833.0         78.880652               92.109389   2274.291267   \n",
      "773    3914.0         74.337231               92.288167   2482.815316   \n",
      "859    2388.0         43.259383               92.482382    994.697587   \n",
      "944    3703.0         84.058395               91.062167   9390.095074   \n",
      "1129   4579.0         72.291005               92.577289    158.463338   \n",
      "1179   3692.0         89.396977               91.507534   2790.919612   \n",
      "1778   1395.0         74.038855               92.483740           NaN   \n",
      "2263   1425.0         43.767314               92.282996   3069.225843   \n",
      "2316   2265.0        102.533707               91.514026   1015.818664   \n",
      "2443   3253.0         52.514029               92.368105   3488.384199   \n",
      "2698   3113.0         78.345556               91.034463  15758.278107   \n",
      "4048   2749.0         87.110612               92.192058  18406.286003   \n",
      "4114   1258.0         97.254386               92.488127   5227.457798   \n",
      "4323   4789.0         55.749120               91.717629   1539.251521   \n",
      "5138   3998.0         79.414789               91.818093   9767.409192   \n",
      "5472      NaN         75.724488               92.000571   2030.131935   \n",
      "5643   4354.0         85.644407               91.461562   5641.687332   \n",
      "6105   1337.0         40.000000               92.144652   5534.234406   \n",
      "7079   2150.0         61.665881               92.418695  20024.639989   \n",
      "7428   1959.0         75.990920               91.785862    128.809348   \n",
      "7509   3073.0         60.070434               91.858473   1673.030268   \n",
      "7693   2279.0         59.304401               92.580825    914.629470   \n",
      "7806   2094.0         81.651301               91.788210   7619.849709   \n",
      "8170   1705.0         77.218179               92.009195   3153.222280   \n",
      "9007   1110.0         54.061581               92.159270  15096.038740   \n",
      "9102   2722.0         57.856078               92.584947  14187.533524   \n",
      "9553   1992.0         72.889579               91.973218   2367.280481   \n",
      "9577   2341.0         61.844491               90.791208   9594.119586   \n",
      "9797   4342.0         57.523789               92.289059   7163.497538   \n",
      "\n",
      "     Sleep Duration (hours) Activity Level Stress Level  \n",
      "389       6.867673807383509            NaN            7  \n",
      "548       6.833725883961385      Sedentary            4  \n",
      "773        7.45563119856827          Actve            5  \n",
      "859       4.913507114565334  Highly_Active           10  \n",
      "944       4.550439370733248         Active            4  \n",
      "1129      8.951708332414036         Active            5  \n",
      "1179      5.617238886873169      Sedentary            8  \n",
      "1778      5.299209434229295     Seddentary            9  \n",
      "2263      6.116159844828475         Active            1  \n",
      "2316      6.769490710476727          Actve            1  \n",
      "2443      4.554555804683645     Seddentary            1  \n",
      "2698     5.6881784100824815  Highly Active            1  \n",
      "4048     4.8130266889199635      Sedentary            7  \n",
      "4114      6.150836361912763     Seddentary            8  \n",
      "4323     5.5149299679046875     Seddentary            5  \n",
      "5138      8.001757826031191         Active            5  \n",
      "5472       6.61879880038323      Sedentary            9  \n",
      "5643      7.078524485412201  Highly Active            2  \n",
      "6105       3.28148139323254          Actve            3  \n",
      "7079      5.590848665164669         Active            7  \n",
      "7428       5.56347826912544  Highly_Active            2  \n",
      "7509      5.997517603193557  Highly Active            1  \n",
      "7693      9.831979557154023     Seddentary           10  \n",
      "7806      4.650706319972937      Sedentary            5  \n",
      "8170      6.419177306407999  Highly Active            3  \n",
      "9007                  ERROR     Seddentary            9  \n",
      "9102      4.483178958760106         Active            6  \n",
      "9553      7.367892639768775         Active            5  \n",
      "9577     5.9351943459604035         Active            3  \n",
      "9797      6.512627831539817      Sedentary            9  \n",
      "      User ID  Heart Rate (BPM)  Blood Oxygen Level (%)    Step Count  \\\n",
      "818    3156.0         75.132684                     NaN   7281.778831   \n",
      "8369   2283.0         75.132684                     NaN  21495.639335   \n",
      "1615   1417.0         75.132684                     NaN   1585.892722   \n",
      "1712   4079.0         75.132684                     NaN  19003.921284   \n",
      "4690   2829.0         75.132684                     NaN   6610.794796   \n",
      "...       ...               ...                     ...           ...   \n",
      "9834   4840.0         64.803112                     NaN   1647.308449   \n",
      "9861   3942.0         57.617790                     NaN  14269.737149   \n",
      "9885   4028.0         75.281591                     NaN   3852.160740   \n",
      "9905   3603.0         87.693723                     NaN   2364.028205   \n",
      "9979   3631.0         58.797407                     NaN    359.210435   \n",
      "\n",
      "     Sleep Duration (hours) Activity Level Stress Level  \n",
      "818       4.300171191258864      Sedentary            3  \n",
      "8369      5.291653956497481  Highly_Active            2  \n",
      "1615      5.850088362685106     Seddentary            9  \n",
      "1712      5.612504092265231         Active            2  \n",
      "4690      7.770459211576647            NaN            9  \n",
      "...                     ...            ...          ...  \n",
      "9834       8.04238137746177  Highly Active            7  \n",
      "9861      6.390686112594759  Highly_Active            9  \n",
      "9885      8.970316986352344          Actve          NaN  \n",
      "9905     3.5490963940132865     Seddentary            3  \n",
      "9979      8.035879532058063         Active            5  \n",
      "\n",
      "[300 rows x 7 columns]\n",
      "total outlier and missing:\n",
      "330\n",
      "0.033\n",
      "97.85972699010772\n",
      "      User ID  Heart Rate (BPM)  Blood Oxygen Level (%)    Step Count  \\\n",
      "2      1860.0         75.132684               97.052954   2826.521994   \n",
      "337    2369.0         75.132684               95.441773   2998.761919   \n",
      "393    2443.0         75.132684               95.497181   1227.804688   \n",
      "403    3200.0         75.132684               96.011492   9402.746140   \n",
      "595    2129.0         75.132684               97.161853   2555.402184   \n",
      "...       ...               ...                     ...           ...   \n",
      "9007   1110.0         54.061581               91.034463  15096.038740   \n",
      "9102   2722.0         57.856078               91.034463  14187.533524   \n",
      "9553   1992.0         72.889579               91.034463   2367.280481   \n",
      "9577   2341.0         61.844491               91.034463   9594.119586   \n",
      "9797   4342.0         57.523789               91.034463   7163.497538   \n",
      "\n",
      "     Sleep Duration (hours) Activity Level Stress Level  \n",
      "2                     ERROR  Highly Active            5  \n",
      "337       6.670622263019579  Highly Active            9  \n",
      "393       5.185244686595328  Highly_Active            9  \n",
      "403       7.190062873693008  Highly_Active            9  \n",
      "595       5.928628388578222  Highly Active            7  \n",
      "...                     ...            ...          ...  \n",
      "9007                  ERROR     Seddentary            9  \n",
      "9102      4.483178958760106         Active            6  \n",
      "9553      7.367892639768775         Active            5  \n",
      "9577     5.9351943459604035         Active            3  \n",
      "9797      6.512627831539817      Sedentary            9  \n",
      "\n",
      "[10000 rows x 7 columns]\n"
     ]
    },
    {
     "name": "stdout",
     "output_type": "stream",
     "text": [
      "97.84377863826286\n"
     ]
    },
    {
     "name": "stderr",
     "output_type": "stream",
     "text": [
      "/tmp/ipykernel_234060/2882461055.py:42: SettingWithCopyWarning: \n",
      "A value is trying to be set on a copy of a slice from a DataFrame.\n",
      "Try using .loc[row_indexer,col_indexer] = value instead\n",
      "\n",
      "See the caveats in the documentation: https://pandas.pydata.org/pandas-docs/stable/user_guide/indexing.html#returning-a-view-versus-a-copy\n",
      "  null_bol['Blood Oxygen Level (%)'] = smartwatch_hr['Blood Oxygen Level (%)'].median()\n",
      "/tmp/ipykernel_234060/2882461055.py:43: SettingWithCopyWarning: \n",
      "A value is trying to be set on a copy of a slice from a DataFrame.\n",
      "Try using .loc[row_indexer,col_indexer] = value instead\n",
      "\n",
      "See the caveats in the documentation: https://pandas.pydata.org/pandas-docs/stable/user_guide/indexing.html#returning-a-view-versus-a-copy\n",
      "  outlier_bol['Blood Oxygen Level (%)'] = smartwatch_hr['Blood Oxygen Level (%)'].nsmallest(2).iloc[-1] # python second minimum pandas Ai overview\n"
     ]
    },
    {
     "data": {
      "image/png": "[encoded data removed]",
      "text/plain": [
       "<Figure size 640x480 with 1 Axes>"
      ]
     },
     "metadata": {},
     "output_type": "display_data"
    }
   ],
   "source": [
    "## use this space or additional cells to deal with the missing/outlier values. \n",
    "print(len(smartwatch_hr[smartwatch_hr['Blood Oxygen Level (%)'].isnull()]))\n",
    "print(len(smartwatch_hr[~smartwatch_hr['Blood Oxygen Level (%)'].isnull()]))\n",
    "print((len(smartwatch_hr[smartwatch_hr['Blood Oxygen Level (%)'].isnull()]))/len(smartwatch_hr))\n",
    "\n",
    "## \"Boxplot with outliers. The upper and \n",
    "# lower fences represent values more and \n",
    "# less than 75th and 25th percentiles \n",
    "# (3rd and 1st quartiles), respectively, \n",
    "# by 1.5 times the difference between the \n",
    "# 3rd and 1st quartiles. An outlier is defined \n",
    "# as the value above or below the upper or lower fences.\"\n",
    "\n",
    "q1 = smartwatch_hr['Blood Oxygen Level (%)'].quantile(0.25)\n",
    "q3 = smartwatch_hr['Blood Oxygen Level (%)'].quantile(0.75)\n",
    "iqr = q3 - q1\n",
    "\n",
    "low_fence = q1 - (1.5 * iqr)\n",
    "print(low_fence)\n",
    "up_fence = q3 + (1.5 * iqr)\n",
    "print(up_fence)\n",
    "\n",
    "outlier_bol = smartwatch_hr[(smartwatch_hr['Blood Oxygen Level (%)'] > up_fence) | (smartwatch_hr['Blood Oxygen Level (%)'] < low_fence)]\n",
    "up_outlier = smartwatch_hr[(smartwatch_hr['Blood Oxygen Level (%)'] > up_fence)]\n",
    "#print(up_outlier)\n",
    "print(\"length \" + str(len(outlier_bol)))\n",
    "print(outlier_bol)\n",
    "\n",
    "null_bol = smartwatch_hr[smartwatch_hr['Blood Oxygen Level (%)'].isnull()]\n",
    "print(null_bol)\n",
    "\n",
    "print(\"total outlier and missing:\")\n",
    "print((len(null_bol) + len(outlier_bol)))\n",
    "print((len(null_bol) + len(outlier_bol))/len(smartwatch_hr))\n",
    "\n",
    "smartwatch_o2 = smartwatch_hr[\n",
    "    (~smartwatch_hr['Blood Oxygen Level (%)'].isnull()) & \n",
    "    (smartwatch_hr['Blood Oxygen Level (%)'] <= up_fence) & \n",
    "    (smartwatch_hr['Blood Oxygen Level (%)'] >= low_fence)\n",
    "    ]\n",
    "print(smartwatch_o2[\"Blood Oxygen Level (%)\"].mean())\n",
    "null_bol['Blood Oxygen Level (%)'] = smartwatch_hr['Blood Oxygen Level (%)'].median()\n",
    "outlier_bol['Blood Oxygen Level (%)'] = smartwatch_hr['Blood Oxygen Level (%)'].nsmallest(2).iloc[-1] # python second minimum pandas Ai overview\n",
    "smartwatch_o2 = pd.concat([smartwatch_o2, null_bol, outlier_bol])\n",
    "print(smartwatch_o2)\n",
    "\n",
    "sns.histplot(smartwatch_hr[\"Blood Oxygen Level (%)\"], label ='With Missing Values and Outliers')\n",
    "plt.legend()\n",
    "print(float(smartwatch_o2[\"Blood Oxygen Level (%)\"].mean()))"
   ]
  },
  {
   "cell_type": "markdown",
   "metadata": {},
   "source": [
    "Moving onto the Step Count column. \n",
    "\n",
    "**Question 6**: Find the minimum, maximum, and mean step counts. "
   ]
  },
  {
   "cell_type": "code",
   "execution_count": 418,
   "metadata": {},
   "outputs": [
    {
     "data": {
      "text/plain": [
       "(0.9101380609604088, 62486.690753464914, 6985.685884992229)"
      ]
     },
     "execution_count": 418,
     "metadata": {},
     "output_type": "execute_result"
    }
   ],
   "source": [
    "minSteps = float(smartwatch_hr['Step Count'].min())\n",
    "\n",
    "maxSteps = float(smartwatch_hr['Step Count'].max())\n",
    "\n",
    "meanSteps = float(smartwatch_hr['Step Count'].mean())\n",
    "\n",
    "minSteps, maxSteps, meanSteps"
   ]
  },
  {
   "cell_type": "code",
   "execution_count": 419,
   "metadata": {},
   "outputs": [
    {
     "data": {
      "text/html": [
       "<p><strong><pre style='display: inline;'>Question 6</pre></strong> passed! 🚀</p>"
      ],
      "text/plain": [
       "Question 6 results: All test cases passed!"
      ]
     },
     "execution_count": 419,
     "metadata": {},
     "output_type": "execute_result"
    }
   ],
   "source": [
    "grader.check('q6')"
   ]
  },
  {
   "cell_type": "markdown",
   "metadata": {},
   "source": [
    "**Question 7**: Decide how you want to deal with missing and outlier values in the Steps column. Set your final table equal to the variable `smartwatch_steps`. Use the space below to explain your decisions. \n",
    "\n",
    "Notes: Refer to [this article](https://pmc.ncbi.nlm.nih.gov/articles/PMC5548942/) on methods of handling these type of instances in data. Keep in mind, you might find that either there are no missing values or no outliers. That's okay, just indicate that in the written space below and update the table i.e. `smartwatch_steps = smartwatch_o2`\n",
    "\n",
    "ANSWER: \n",
    "There are only 99 missing values (about 1% of dataset) and no clear pattern can be seen to why the data is missing, therefore we can delete the values. There are 446 outliers which is a lot outliers and these seem to be extreme values such as 38831 and 29066 yet other varbles of these outliers are in a normal range, therefore we will Winsorize the data to\n",
    "to preserve information and distrabution. The outliers seem to only range out the upper fence since -9534.75 is the lower fence therefore we should replace the values with the largest non outlier value\n",
    "\n",
    "After trying to question 8 i found out deleting any values will not let me pass the test therefore we can impute missing values or windsorize outliers that were deleted to perserve values. Here instead of deleting the missing value"
   ]
  },
  {
   "cell_type": "code",
   "execution_count": 420,
   "metadata": {},
   "outputs": [
    {
     "name": "stdout",
     "output_type": "stream",
     "text": [
      "100\n",
      "9900\n",
      "0.01\n",
      "low -9534.755177832692\n",
      "high 21280.697714543152\n",
      "length 446\n",
      "      User ID  Heart Rate (BPM)  Blood Oxygen Level (%)    Step Count  \\\n",
      "3983   1597.0         75.132684               99.396872  23860.187292   \n",
      "4185   4643.0         75.132684               95.415588  54698.646371   \n",
      "6974   1935.0         75.132684               94.263021  25043.512031   \n",
      "535    1684.0         75.132684               98.296101  24129.722791   \n",
      "825    1633.0         75.132684               95.532636  37322.098277   \n",
      "...       ...               ...                     ...           ...   \n",
      "3247   1243.0         96.056554               98.010642  28675.878751   \n",
      "4186      NaN         62.297438               98.010642  32620.520990   \n",
      "7954   4266.0         84.291371               98.010642  28778.909788   \n",
      "8165   3105.0         81.445776               98.010642  23743.422603   \n",
      "8433   2735.0         85.419817               98.010642  23965.893681   \n",
      "\n",
      "     Sleep Duration (hours) Activity Level Stress Level  \n",
      "3983       9.72770039263133  Highly Active           10  \n",
      "4185        8.4611474189254            NaN           10  \n",
      "6974      5.452934114413052  Highly_Active            6  \n",
      "535       7.830300996368457  Highly Active            2  \n",
      "825       5.860543801224337     Seddentary            7  \n",
      "...                     ...            ...          ...  \n",
      "3247      5.012070078488433      Sedentary            3  \n",
      "4186      8.013353785247698  Highly_Active            6  \n",
      "7954      6.045554563924504     Seddentary            3  \n",
      "8165       6.00742447435319  Highly_Active            6  \n",
      "8433      6.864303185023953         Active            1  \n",
      "\n",
      "[446 rows x 7 columns]\n",
      "total outlier and missing:\n",
      "546\n",
      "0.0546\n",
      "      User ID  Heart Rate (BPM)  Blood Oxygen Level (%)    Step Count  \\\n",
      "3983   1597.0         75.132684               99.396872  21278.851963   \n",
      "4185   4643.0         75.132684               95.415588  21278.851963   \n",
      "6974   1935.0         75.132684               94.263021  21278.851963   \n",
      "535    1684.0         75.132684               98.296101  21278.851963   \n",
      "825    1633.0         75.132684               95.532636  21278.851963   \n",
      "...       ...               ...                     ...           ...   \n",
      "3247   1243.0         96.056554               98.010642  21278.851963   \n",
      "4186      NaN         62.297438               98.010642  21278.851963   \n",
      "7954   4266.0         84.291371               98.010642  21278.851963   \n",
      "8165   3105.0         81.445776               98.010642  21278.851963   \n",
      "8433   2735.0         85.419817               98.010642  21278.851963   \n",
      "\n",
      "     Sleep Duration (hours) Activity Level Stress Level  \n",
      "3983       9.72770039263133  Highly Active           10  \n",
      "4185        8.4611474189254            NaN           10  \n",
      "6974      5.452934114413052  Highly_Active            6  \n",
      "535       7.830300996368457  Highly Active            2  \n",
      "825       5.860543801224337     Seddentary            7  \n",
      "...                     ...            ...          ...  \n",
      "3247      5.012070078488433      Sedentary            3  \n",
      "4186      8.013353785247698  Highly_Active            6  \n",
      "7954      6.045554563924504     Seddentary            3  \n",
      "8165       6.00742447435319  Highly_Active            6  \n",
      "8433      6.864303185023953         Active            1  \n",
      "\n",
      "[446 rows x 7 columns]\n",
      "5988.294290944984\n",
      "6656.7155914971745\n"
     ]
    },
    {
     "name": "stderr",
     "output_type": "stream",
     "text": [
      "/tmp/ipykernel_234060/2556848012.py:31: SettingWithCopyWarning: \n",
      "A value is trying to be set on a copy of a slice from a DataFrame.\n",
      "Try using .loc[row_indexer,col_indexer] = value instead\n",
      "\n",
      "See the caveats in the documentation: https://pandas.pydata.org/pandas-docs/stable/user_guide/indexing.html#returning-a-view-versus-a-copy\n",
      "  outlier_step['Step Count'] = smartwatch_steps['Step Count'].max();\n",
      "/tmp/ipykernel_234060/2556848012.py:32: SettingWithCopyWarning: \n",
      "A value is trying to be set on a copy of a slice from a DataFrame.\n",
      "Try using .loc[row_indexer,col_indexer] = value instead\n",
      "\n",
      "See the caveats in the documentation: https://pandas.pydata.org/pandas-docs/stable/user_guide/indexing.html#returning-a-view-versus-a-copy\n",
      "  null_step['Step Count'] = smartwatch_steps['Step Count'].median();\n"
     ]
    },
    {
     "data": {
      "text/plain": [
       "<matplotlib.legend.Legend at 0x7897e3b0cd10>"
      ]
     },
     "execution_count": 420,
     "metadata": {},
     "output_type": "execute_result"
    },
    {
     "data": {
      "image/png": "[encoded data removed]",
      "text/plain": [
       "<Figure size 640x480 with 1 Axes>"
      ]
     },
     "metadata": {},
     "output_type": "display_data"
    }
   ],
   "source": [
    "## use this space or additional cells to address the missing or outlier data.\n",
    "\n",
    "print(len(smartwatch_o2[smartwatch_o2['Step Count'].isnull()]))\n",
    "print(len(smartwatch_o2[~smartwatch_o2['Step Count'].isnull()]))\n",
    "print((len(smartwatch_o2[smartwatch_o2['Step Count'].isnull()]))/len(smartwatch_o2))\n",
    "\n",
    "q1 = smartwatch_o2['Step Count'].quantile(0.25)\n",
    "q3 = smartwatch_o2['Step Count'].quantile(0.75)\n",
    "iqr = q3 - q1\n",
    "low_fence = q1 - (1.5 * iqr)\n",
    "print(\"low \" + str(low_fence))\n",
    "up_fence = q3 + (1.5 * iqr)\n",
    "print(\"high \" + str(up_fence))\n",
    "\n",
    "outlier_step = smartwatch_o2[(smartwatch_o2['Step Count'] > up_fence) | (smartwatch_o2['Step Count'] < low_fence)]\n",
    "up_step = smartwatch_o2[(smartwatch_o2['Step Count'] > up_fence)]\n",
    "#print(up_outlier)\n",
    "print(\"length \" + str(len(outlier_step)))\n",
    "print(outlier_step)\n",
    "\n",
    "null_step = smartwatch_o2[smartwatch_o2['Step Count'].isnull()]\n",
    "print(\"total outlier and missing:\")\n",
    "print((len(null_step) + len(outlier_step)))\n",
    "print((len(null_step) + len(outlier_step))/len(smartwatch_o2))\n",
    "\n",
    "smartwatch_steps = smartwatch_o2[\n",
    "    (~smartwatch_o2['Step Count'].isnull()) & \n",
    "    (smartwatch_o2['Step Count'] <= up_fence) & \n",
    "    (smartwatch_o2['Step Count'] >= low_fence)\n",
    "]\n",
    "outlier_step['Step Count'] = smartwatch_steps['Step Count'].max();\n",
    "null_step['Step Count'] = smartwatch_steps['Step Count'].median();\n",
    "print(outlier_step)\n",
    "print(smartwatch_steps['Step Count'].mean())\n",
    "smartwatch_steps = pd.concat([smartwatch_steps, outlier_step, null_step])\n",
    "print(smartwatch_steps['Step Count'].mean())\n",
    "\n",
    "smartwatch_steps\n",
    "\n",
    "sns.histplot(smartwatch_o2[\"Step Count\"], label ='With Missing Values and Outliers')\n",
    "plt.legend()\n"
   ]
  },
  {
   "cell_type": "markdown",
   "metadata": {},
   "source": [
    "Next onto the Sleep Duration column. \n",
    "\n",
    "**Question 8**: Try finding the minimum number of hours slept among participants. "
   ]
  },
  {
   "cell_type": "code",
   "execution_count": 421,
   "metadata": {},
   "outputs": [
    {
     "ename": "TypeError",
     "evalue": "'<=' not supported between instances of 'str' and 'float'",
     "output_type": "error",
     "traceback": [
      "\u001b[0;31m---------------------------------------------------------------------------\u001b[0m",
      "\u001b[0;31mTypeError\u001b[0m                                 Traceback (most recent call last)",
      "Cell \u001b[0;32mIn[421], line 1\u001b[0m\n\u001b[0;32m----> 1\u001b[0m minSleep \u001b[38;5;241m=\u001b[39m \u001b[43msmartwatch\u001b[49m\u001b[43m[\u001b[49m\u001b[38;5;124;43m'\u001b[39;49m\u001b[38;5;124;43mSleep Duration (hours)\u001b[39;49m\u001b[38;5;124;43m'\u001b[39;49m\u001b[43m]\u001b[49m\u001b[38;5;241;43m.\u001b[39;49m\u001b[43mmin\u001b[49m\u001b[43m(\u001b[49m\u001b[43m)\u001b[49m\n\u001b[1;32m      3\u001b[0m minSleep\n",
      "File \u001b[0;32m~/.local/lib/python3.12/site-packages/pandas/core/series.py:6507\u001b[0m, in \u001b[0;36mSeries.min\u001b[0;34m(self, axis, skipna, numeric_only, **kwargs)\u001b[0m\n\u001b[1;32m   6499\u001b[0m \u001b[38;5;129m@doc\u001b[39m(make_doc(\u001b[38;5;124m\"\u001b[39m\u001b[38;5;124mmin\u001b[39m\u001b[38;5;124m\"\u001b[39m, ndim\u001b[38;5;241m=\u001b[39m\u001b[38;5;241m1\u001b[39m))\n\u001b[1;32m   6500\u001b[0m \u001b[38;5;28;01mdef\u001b[39;00m \u001b[38;5;21mmin\u001b[39m(\n\u001b[1;32m   6501\u001b[0m     \u001b[38;5;28mself\u001b[39m,\n\u001b[0;32m   (...)\u001b[0m\n\u001b[1;32m   6505\u001b[0m     \u001b[38;5;241m*\u001b[39m\u001b[38;5;241m*\u001b[39mkwargs,\n\u001b[1;32m   6506\u001b[0m ):\n\u001b[0;32m-> 6507\u001b[0m     \u001b[38;5;28;01mreturn\u001b[39;00m \u001b[43mNDFrame\u001b[49m\u001b[38;5;241;43m.\u001b[39;49m\u001b[43mmin\u001b[49m\u001b[43m(\u001b[49m\u001b[38;5;28;43mself\u001b[39;49m\u001b[43m,\u001b[49m\u001b[43m \u001b[49m\u001b[43maxis\u001b[49m\u001b[43m,\u001b[49m\u001b[43m \u001b[49m\u001b[43mskipna\u001b[49m\u001b[43m,\u001b[49m\u001b[43m \u001b[49m\u001b[43mnumeric_only\u001b[49m\u001b[43m,\u001b[49m\u001b[43m \u001b[49m\u001b[38;5;241;43m*\u001b[39;49m\u001b[38;5;241;43m*\u001b[39;49m\u001b[43mkwargs\u001b[49m\u001b[43m)\u001b[49m\n",
      "File \u001b[0;32m~/.local/lib/python3.12/site-packages/pandas/core/generic.py:12388\u001b[0m, in \u001b[0;36mNDFrame.min\u001b[0;34m(self, axis, skipna, numeric_only, **kwargs)\u001b[0m\n\u001b[1;32m  12381\u001b[0m \u001b[38;5;28;01mdef\u001b[39;00m \u001b[38;5;21mmin\u001b[39m(\n\u001b[1;32m  12382\u001b[0m     \u001b[38;5;28mself\u001b[39m,\n\u001b[1;32m  12383\u001b[0m     axis: Axis \u001b[38;5;241m|\u001b[39m \u001b[38;5;28;01mNone\u001b[39;00m \u001b[38;5;241m=\u001b[39m \u001b[38;5;241m0\u001b[39m,\n\u001b[0;32m   (...)\u001b[0m\n\u001b[1;32m  12386\u001b[0m     \u001b[38;5;241m*\u001b[39m\u001b[38;5;241m*\u001b[39mkwargs,\n\u001b[1;32m  12387\u001b[0m ):\n\u001b[0;32m> 12388\u001b[0m     \u001b[38;5;28;01mreturn\u001b[39;00m \u001b[38;5;28;43mself\u001b[39;49m\u001b[38;5;241;43m.\u001b[39;49m\u001b[43m_stat_function\u001b[49m\u001b[43m(\u001b[49m\n\u001b[1;32m  12389\u001b[0m \u001b[43m        \u001b[49m\u001b[38;5;124;43m\"\u001b[39;49m\u001b[38;5;124;43mmin\u001b[39;49m\u001b[38;5;124;43m\"\u001b[39;49m\u001b[43m,\u001b[49m\n\u001b[1;32m  12390\u001b[0m \u001b[43m        \u001b[49m\u001b[43mnanops\u001b[49m\u001b[38;5;241;43m.\u001b[39;49m\u001b[43mnanmin\u001b[49m\u001b[43m,\u001b[49m\n\u001b[1;32m  12391\u001b[0m \u001b[43m        \u001b[49m\u001b[43maxis\u001b[49m\u001b[43m,\u001b[49m\n\u001b[1;32m  12392\u001b[0m \u001b[43m        \u001b[49m\u001b[43mskipna\u001b[49m\u001b[43m,\u001b[49m\n\u001b[1;32m  12393\u001b[0m \u001b[43m        \u001b[49m\u001b[43mnumeric_only\u001b[49m\u001b[43m,\u001b[49m\n\u001b[1;32m  12394\u001b[0m \u001b[43m        \u001b[49m\u001b[38;5;241;43m*\u001b[39;49m\u001b[38;5;241;43m*\u001b[39;49m\u001b[43mkwargs\u001b[49m\u001b[43m,\u001b[49m\n\u001b[1;32m  12395\u001b[0m \u001b[43m    \u001b[49m\u001b[43m)\u001b[49m\n",
      "File \u001b[0;32m~/.local/lib/python3.12/site-packages/pandas/core/generic.py:12377\u001b[0m, in \u001b[0;36mNDFrame._stat_function\u001b[0;34m(self, name, func, axis, skipna, numeric_only, **kwargs)\u001b[0m\n\u001b[1;32m  12373\u001b[0m nv\u001b[38;5;241m.\u001b[39mvalidate_func(name, (), kwargs)\n\u001b[1;32m  12375\u001b[0m validate_bool_kwarg(skipna, \u001b[38;5;124m\"\u001b[39m\u001b[38;5;124mskipna\u001b[39m\u001b[38;5;124m\"\u001b[39m, none_allowed\u001b[38;5;241m=\u001b[39m\u001b[38;5;28;01mFalse\u001b[39;00m)\n\u001b[0;32m> 12377\u001b[0m \u001b[38;5;28;01mreturn\u001b[39;00m \u001b[38;5;28;43mself\u001b[39;49m\u001b[38;5;241;43m.\u001b[39;49m\u001b[43m_reduce\u001b[49m\u001b[43m(\u001b[49m\n\u001b[1;32m  12378\u001b[0m \u001b[43m    \u001b[49m\u001b[43mfunc\u001b[49m\u001b[43m,\u001b[49m\u001b[43m \u001b[49m\u001b[43mname\u001b[49m\u001b[38;5;241;43m=\u001b[39;49m\u001b[43mname\u001b[49m\u001b[43m,\u001b[49m\u001b[43m \u001b[49m\u001b[43maxis\u001b[49m\u001b[38;5;241;43m=\u001b[39;49m\u001b[43maxis\u001b[49m\u001b[43m,\u001b[49m\u001b[43m \u001b[49m\u001b[43mskipna\u001b[49m\u001b[38;5;241;43m=\u001b[39;49m\u001b[43mskipna\u001b[49m\u001b[43m,\u001b[49m\u001b[43m \u001b[49m\u001b[43mnumeric_only\u001b[49m\u001b[38;5;241;43m=\u001b[39;49m\u001b[43mnumeric_only\u001b[49m\n\u001b[1;32m  12379\u001b[0m \u001b[43m\u001b[49m\u001b[43m)\u001b[49m\n",
      "File \u001b[0;32m~/.local/lib/python3.12/site-packages/pandas/core/series.py:6457\u001b[0m, in \u001b[0;36mSeries._reduce\u001b[0;34m(self, op, name, axis, skipna, numeric_only, filter_type, **kwds)\u001b[0m\n\u001b[1;32m   6452\u001b[0m     \u001b[38;5;66;03m# GH#47500 - change to TypeError to match other methods\u001b[39;00m\n\u001b[1;32m   6453\u001b[0m     \u001b[38;5;28;01mraise\u001b[39;00m \u001b[38;5;167;01mTypeError\u001b[39;00m(\n\u001b[1;32m   6454\u001b[0m         \u001b[38;5;124mf\u001b[39m\u001b[38;5;124m\"\u001b[39m\u001b[38;5;124mSeries.\u001b[39m\u001b[38;5;132;01m{\u001b[39;00mname\u001b[38;5;132;01m}\u001b[39;00m\u001b[38;5;124m does not allow \u001b[39m\u001b[38;5;132;01m{\u001b[39;00mkwd_name\u001b[38;5;132;01m}\u001b[39;00m\u001b[38;5;124m=\u001b[39m\u001b[38;5;132;01m{\u001b[39;00mnumeric_only\u001b[38;5;132;01m}\u001b[39;00m\u001b[38;5;124m \u001b[39m\u001b[38;5;124m\"\u001b[39m\n\u001b[1;32m   6455\u001b[0m         \u001b[38;5;124m\"\u001b[39m\u001b[38;5;124mwith non-numeric dtypes.\u001b[39m\u001b[38;5;124m\"\u001b[39m\n\u001b[1;32m   6456\u001b[0m     )\n\u001b[0;32m-> 6457\u001b[0m \u001b[38;5;28;01mreturn\u001b[39;00m \u001b[43mop\u001b[49m\u001b[43m(\u001b[49m\u001b[43mdelegate\u001b[49m\u001b[43m,\u001b[49m\u001b[43m \u001b[49m\u001b[43mskipna\u001b[49m\u001b[38;5;241;43m=\u001b[39;49m\u001b[43mskipna\u001b[49m\u001b[43m,\u001b[49m\u001b[43m \u001b[49m\u001b[38;5;241;43m*\u001b[39;49m\u001b[38;5;241;43m*\u001b[39;49m\u001b[43mkwds\u001b[49m\u001b[43m)\u001b[49m\n",
      "File \u001b[0;32m~/.local/lib/python3.12/site-packages/pandas/core/nanops.py:147\u001b[0m, in \u001b[0;36mbottleneck_switch.__call__.<locals>.f\u001b[0;34m(values, axis, skipna, **kwds)\u001b[0m\n\u001b[1;32m    145\u001b[0m         result \u001b[38;5;241m=\u001b[39m alt(values, axis\u001b[38;5;241m=\u001b[39maxis, skipna\u001b[38;5;241m=\u001b[39mskipna, \u001b[38;5;241m*\u001b[39m\u001b[38;5;241m*\u001b[39mkwds)\n\u001b[1;32m    146\u001b[0m \u001b[38;5;28;01melse\u001b[39;00m:\n\u001b[0;32m--> 147\u001b[0m     result \u001b[38;5;241m=\u001b[39m \u001b[43malt\u001b[49m\u001b[43m(\u001b[49m\u001b[43mvalues\u001b[49m\u001b[43m,\u001b[49m\u001b[43m \u001b[49m\u001b[43maxis\u001b[49m\u001b[38;5;241;43m=\u001b[39;49m\u001b[43maxis\u001b[49m\u001b[43m,\u001b[49m\u001b[43m \u001b[49m\u001b[43mskipna\u001b[49m\u001b[38;5;241;43m=\u001b[39;49m\u001b[43mskipna\u001b[49m\u001b[43m,\u001b[49m\u001b[43m \u001b[49m\u001b[38;5;241;43m*\u001b[39;49m\u001b[38;5;241;43m*\u001b[39;49m\u001b[43mkwds\u001b[49m\u001b[43m)\u001b[49m\n\u001b[1;32m    149\u001b[0m \u001b[38;5;28;01mreturn\u001b[39;00m result\n",
      "File \u001b[0;32m~/.local/lib/python3.12/site-packages/pandas/core/nanops.py:404\u001b[0m, in \u001b[0;36m_datetimelike_compat.<locals>.new_func\u001b[0;34m(values, axis, skipna, mask, **kwargs)\u001b[0m\n\u001b[1;32m    401\u001b[0m \u001b[38;5;28;01mif\u001b[39;00m datetimelike \u001b[38;5;129;01mand\u001b[39;00m mask \u001b[38;5;129;01mis\u001b[39;00m \u001b[38;5;28;01mNone\u001b[39;00m:\n\u001b[1;32m    402\u001b[0m     mask \u001b[38;5;241m=\u001b[39m isna(values)\n\u001b[0;32m--> 404\u001b[0m result \u001b[38;5;241m=\u001b[39m \u001b[43mfunc\u001b[49m\u001b[43m(\u001b[49m\u001b[43mvalues\u001b[49m\u001b[43m,\u001b[49m\u001b[43m \u001b[49m\u001b[43maxis\u001b[49m\u001b[38;5;241;43m=\u001b[39;49m\u001b[43maxis\u001b[49m\u001b[43m,\u001b[49m\u001b[43m \u001b[49m\u001b[43mskipna\u001b[49m\u001b[38;5;241;43m=\u001b[39;49m\u001b[43mskipna\u001b[49m\u001b[43m,\u001b[49m\u001b[43m \u001b[49m\u001b[43mmask\u001b[49m\u001b[38;5;241;43m=\u001b[39;49m\u001b[43mmask\u001b[49m\u001b[43m,\u001b[49m\u001b[43m \u001b[49m\u001b[38;5;241;43m*\u001b[39;49m\u001b[38;5;241;43m*\u001b[39;49m\u001b[43mkwargs\u001b[49m\u001b[43m)\u001b[49m\n\u001b[1;32m    406\u001b[0m \u001b[38;5;28;01mif\u001b[39;00m datetimelike:\n\u001b[1;32m    407\u001b[0m     result \u001b[38;5;241m=\u001b[39m _wrap_results(result, orig_values\u001b[38;5;241m.\u001b[39mdtype, fill_value\u001b[38;5;241m=\u001b[39miNaT)\n",
      "File \u001b[0;32m~/.local/lib/python3.12/site-packages/pandas/core/nanops.py:1098\u001b[0m, in \u001b[0;36m_nanminmax.<locals>.reduction\u001b[0;34m(values, axis, skipna, mask)\u001b[0m\n\u001b[1;32m   1093\u001b[0m     \u001b[38;5;28;01mreturn\u001b[39;00m _na_for_min_count(values, axis)\n\u001b[1;32m   1095\u001b[0m values, mask \u001b[38;5;241m=\u001b[39m _get_values(\n\u001b[1;32m   1096\u001b[0m     values, skipna, fill_value_typ\u001b[38;5;241m=\u001b[39mfill_value_typ, mask\u001b[38;5;241m=\u001b[39mmask\n\u001b[1;32m   1097\u001b[0m )\n\u001b[0;32m-> 1098\u001b[0m result \u001b[38;5;241m=\u001b[39m \u001b[38;5;28;43mgetattr\u001b[39;49m\u001b[43m(\u001b[49m\u001b[43mvalues\u001b[49m\u001b[43m,\u001b[49m\u001b[43m \u001b[49m\u001b[43mmeth\u001b[49m\u001b[43m)\u001b[49m\u001b[43m(\u001b[49m\u001b[43maxis\u001b[49m\u001b[43m)\u001b[49m\n\u001b[1;32m   1099\u001b[0m result \u001b[38;5;241m=\u001b[39m _maybe_null_out(result, axis, mask, values\u001b[38;5;241m.\u001b[39mshape)\n\u001b[1;32m   1100\u001b[0m \u001b[38;5;28;01mreturn\u001b[39;00m result\n",
      "File \u001b[0;32m~/.local/lib/python3.12/site-packages/numpy/_core/_methods.py:48\u001b[0m, in \u001b[0;36m_amin\u001b[0;34m(a, axis, out, keepdims, initial, where)\u001b[0m\n\u001b[1;32m     46\u001b[0m \u001b[38;5;28;01mdef\u001b[39;00m \u001b[38;5;21m_amin\u001b[39m(a, axis\u001b[38;5;241m=\u001b[39m\u001b[38;5;28;01mNone\u001b[39;00m, out\u001b[38;5;241m=\u001b[39m\u001b[38;5;28;01mNone\u001b[39;00m, keepdims\u001b[38;5;241m=\u001b[39m\u001b[38;5;28;01mFalse\u001b[39;00m,\n\u001b[1;32m     47\u001b[0m           initial\u001b[38;5;241m=\u001b[39m_NoValue, where\u001b[38;5;241m=\u001b[39m\u001b[38;5;28;01mTrue\u001b[39;00m):\n\u001b[0;32m---> 48\u001b[0m     \u001b[38;5;28;01mreturn\u001b[39;00m \u001b[43mumr_minimum\u001b[49m\u001b[43m(\u001b[49m\u001b[43ma\u001b[49m\u001b[43m,\u001b[49m\u001b[43m \u001b[49m\u001b[43maxis\u001b[49m\u001b[43m,\u001b[49m\u001b[43m \u001b[49m\u001b[38;5;28;43;01mNone\u001b[39;49;00m\u001b[43m,\u001b[49m\u001b[43m \u001b[49m\u001b[43mout\u001b[49m\u001b[43m,\u001b[49m\u001b[43m \u001b[49m\u001b[43mkeepdims\u001b[49m\u001b[43m,\u001b[49m\u001b[43m \u001b[49m\u001b[43minitial\u001b[49m\u001b[43m,\u001b[49m\u001b[43m \u001b[49m\u001b[43mwhere\u001b[49m\u001b[43m)\u001b[49m\n",
      "\u001b[0;31mTypeError\u001b[0m: '<=' not supported between instances of 'str' and 'float'"
     ]
    }
   ],
   "source": [
    "minSleep = smartwatch['Sleep Duration (hours)'].min()\n",
    "\n",
    "minSleep"
   ]
  },
  {
   "cell_type": "markdown",
   "metadata": {},
   "source": [
    "In the error message, you should see the phrase: \n",
    "\n",
    "`TypeError: '<=' not supported between instances of 'str' and 'float'`\n",
    "\n",
    "This means that the column is a combination of multiple data types. If you recall, we discussed computer readable data that columns HAVE to contain just a single data type. Having a combination of strings, characters, and numbers in a column will only cause more issues downstream. Let's try to figure out all the instances of non-numerical values in the column. \n",
    "\n",
    "First let's try to identify all the non-numerical values to make sure removing them doesn't obscure any important information. "
   ]
  },
  {
   "cell_type": "code",
   "execution_count": null,
   "metadata": {},
   "outputs": [
    {
     "name": "stdout",
     "output_type": "stream",
     "text": [
      "ERROR\n"
     ]
    }
   ],
   "source": [
    "for item in smartwatch['Sleep Duration (hours)'].unique():  ## Loop through each unique item in the column\n",
    "    try:\n",
    "        numericVal = float(item)  ## first try to see if it can be converted to a number\n",
    "    except:\n",
    "        print(item)  ## if it can't be converted print it to screen "
   ]
  },
  {
   "cell_type": "markdown",
   "metadata": {},
   "source": [
    "So, we find that the only non-numerical value is the string `ERROR`. We can fix this in two ways. First let's try fixing it by splitting the tables like we've done previously. "
   ]
  },
  {
   "cell_type": "code",
   "execution_count": null,
   "metadata": {},
   "outputs": [
    {
     "data": {
      "text/html": [
       "<div>\n",
       "<style scoped>\n",
       "    .dataframe tbody tr th:only-of-type {\n",
       "        vertical-align: middle;\n",
       "    }\n",
       "\n",
       "    .dataframe tbody tr th {\n",
       "        vertical-align: top;\n",
       "    }\n",
       "\n",
       "    .dataframe thead th {\n",
       "        text-align: right;\n",
       "    }\n",
       "</style>\n",
       "<table border=\"1\" class=\"dataframe\">\n",
       "  <thead>\n",
       "    <tr style=\"text-align: right;\">\n",
       "      <th></th>\n",
       "      <th>User ID</th>\n",
       "      <th>Heart Rate (BPM)</th>\n",
       "      <th>Blood Oxygen Level (%)</th>\n",
       "      <th>Step Count</th>\n",
       "      <th>Sleep Duration (hours)</th>\n",
       "      <th>Activity Level</th>\n",
       "      <th>Stress Level</th>\n",
       "    </tr>\n",
       "  </thead>\n",
       "  <tbody>\n",
       "    <tr>\n",
       "      <th>2</th>\n",
       "      <td>1860.0</td>\n",
       "      <td>75.132684</td>\n",
       "      <td>97.052954</td>\n",
       "      <td>2826.521994</td>\n",
       "      <td>ERROR</td>\n",
       "      <td>Highly Active</td>\n",
       "      <td>5</td>\n",
       "    </tr>\n",
       "    <tr>\n",
       "      <th>9438</th>\n",
       "      <td>4411.0</td>\n",
       "      <td>75.132684</td>\n",
       "      <td>99.524016</td>\n",
       "      <td>11209.020829</td>\n",
       "      <td>ERROR</td>\n",
       "      <td>Highly Active</td>\n",
       "      <td>3</td>\n",
       "    </tr>\n",
       "    <tr>\n",
       "      <th>1262</th>\n",
       "      <td>4465.0</td>\n",
       "      <td>75.132684</td>\n",
       "      <td>97.113032</td>\n",
       "      <td>51.448103</td>\n",
       "      <td>ERROR</td>\n",
       "      <td>Highly_Active</td>\n",
       "      <td>6</td>\n",
       "    </tr>\n",
       "    <tr>\n",
       "      <th>2039</th>\n",
       "      <td>1492.0</td>\n",
       "      <td>75.132684</td>\n",
       "      <td>98.223658</td>\n",
       "      <td>7741.843501</td>\n",
       "      <td>ERROR</td>\n",
       "      <td>Highly_Active</td>\n",
       "      <td>5</td>\n",
       "    </tr>\n",
       "    <tr>\n",
       "      <th>2543</th>\n",
       "      <td>4441.0</td>\n",
       "      <td>75.132684</td>\n",
       "      <td>100.000000</td>\n",
       "      <td>12917.213806</td>\n",
       "      <td>ERROR</td>\n",
       "      <td>Sedentary</td>\n",
       "      <td>6</td>\n",
       "    </tr>\n",
       "    <tr>\n",
       "      <th>...</th>\n",
       "      <td>...</td>\n",
       "      <td>...</td>\n",
       "      <td>...</td>\n",
       "      <td>...</td>\n",
       "      <td>...</td>\n",
       "      <td>...</td>\n",
       "      <td>...</td>\n",
       "    </tr>\n",
       "    <tr>\n",
       "      <th>9943</th>\n",
       "      <td>2961.0</td>\n",
       "      <td>91.834863</td>\n",
       "      <td>96.145378</td>\n",
       "      <td>21278.851963</td>\n",
       "      <td>ERROR</td>\n",
       "      <td>Active</td>\n",
       "      <td>4</td>\n",
       "    </tr>\n",
       "    <tr>\n",
       "      <th>8642</th>\n",
       "      <td>3476.0</td>\n",
       "      <td>75.132684</td>\n",
       "      <td>99.462778</td>\n",
       "      <td>4634.537130</td>\n",
       "      <td>ERROR</td>\n",
       "      <td>Active</td>\n",
       "      <td>3</td>\n",
       "    </tr>\n",
       "    <tr>\n",
       "      <th>1456</th>\n",
       "      <td>2997.0</td>\n",
       "      <td>54.116580</td>\n",
       "      <td>95.631824</td>\n",
       "      <td>4634.537130</td>\n",
       "      <td>ERROR</td>\n",
       "      <td>Active</td>\n",
       "      <td>1</td>\n",
       "    </tr>\n",
       "    <tr>\n",
       "      <th>4349</th>\n",
       "      <td>2677.0</td>\n",
       "      <td>73.357223</td>\n",
       "      <td>95.335209</td>\n",
       "      <td>4634.537130</td>\n",
       "      <td>ERROR</td>\n",
       "      <td>Sedentary</td>\n",
       "      <td>1</td>\n",
       "    </tr>\n",
       "    <tr>\n",
       "      <th>6992</th>\n",
       "      <td>2105.0</td>\n",
       "      <td>97.477048</td>\n",
       "      <td>94.138582</td>\n",
       "      <td>4634.537130</td>\n",
       "      <td>ERROR</td>\n",
       "      <td>Seddentary</td>\n",
       "      <td>7</td>\n",
       "    </tr>\n",
       "  </tbody>\n",
       "</table>\n",
       "<p>247 rows × 7 columns</p>\n",
       "</div>"
      ],
      "text/plain": [
       "      User ID  Heart Rate (BPM)  Blood Oxygen Level (%)    Step Count  \\\n",
       "2      1860.0         75.132684               97.052954   2826.521994   \n",
       "9438   4411.0         75.132684               99.524016  11209.020829   \n",
       "1262   4465.0         75.132684               97.113032     51.448103   \n",
       "2039   1492.0         75.132684               98.223658   7741.843501   \n",
       "2543   4441.0         75.132684              100.000000  12917.213806   \n",
       "...       ...               ...                     ...           ...   \n",
       "9943   2961.0         91.834863               96.145378  21278.851963   \n",
       "8642   3476.0         75.132684               99.462778   4634.537130   \n",
       "1456   2997.0         54.116580               95.631824   4634.537130   \n",
       "4349   2677.0         73.357223               95.335209   4634.537130   \n",
       "6992   2105.0         97.477048               94.138582   4634.537130   \n",
       "\n",
       "     Sleep Duration (hours) Activity Level Stress Level  \n",
       "2                     ERROR  Highly Active            5  \n",
       "9438                  ERROR  Highly Active            3  \n",
       "1262                  ERROR  Highly_Active            6  \n",
       "2039                  ERROR  Highly_Active            5  \n",
       "2543                  ERROR      Sedentary            6  \n",
       "...                     ...            ...          ...  \n",
       "9943                  ERROR         Active            4  \n",
       "8642                  ERROR         Active            3  \n",
       "1456                  ERROR         Active            1  \n",
       "4349                  ERROR      Sedentary            1  \n",
       "6992                  ERROR     Seddentary            7  \n",
       "\n",
       "[247 rows x 7 columns]"
      ]
     },
     "execution_count": 95,
     "metadata": {},
     "output_type": "execute_result"
    }
   ],
   "source": [
    "errorTable = smartwatch_steps[smartwatch_steps['Sleep Duration (hours)'] == 'ERROR']\n",
    "errorTable"
   ]
  },
  {
   "cell_type": "markdown",
   "metadata": {},
   "source": [
    "Observe that we've created a table with the rows with `ERROR` in the sleep duration column. We can now replace with the `ERROR` value with our handy NaN value for doing numerical statistics. "
   ]
  },
  {
   "cell_type": "code",
   "execution_count": null,
   "metadata": {},
   "outputs": [
    {
     "name": "stderr",
     "output_type": "stream",
     "text": [
      "/tmp/ipykernel_234060/2302362292.py:1: SettingWithCopyWarning: \n",
      "A value is trying to be set on a copy of a slice from a DataFrame.\n",
      "Try using .loc[row_indexer,col_indexer] = value instead\n",
      "\n",
      "See the caveats in the documentation: https://pandas.pydata.org/pandas-docs/stable/user_guide/indexing.html#returning-a-view-versus-a-copy\n",
      "  errorTable['Sleep Duration (hours)'] = np.nan\n"
     ]
    },
    {
     "data": {
      "text/html": [
       "<div>\n",
       "<style scoped>\n",
       "    .dataframe tbody tr th:only-of-type {\n",
       "        vertical-align: middle;\n",
       "    }\n",
       "\n",
       "    .dataframe tbody tr th {\n",
       "        vertical-align: top;\n",
       "    }\n",
       "\n",
       "    .dataframe thead th {\n",
       "        text-align: right;\n",
       "    }\n",
       "</style>\n",
       "<table border=\"1\" class=\"dataframe\">\n",
       "  <thead>\n",
       "    <tr style=\"text-align: right;\">\n",
       "      <th></th>\n",
       "      <th>User ID</th>\n",
       "      <th>Heart Rate (BPM)</th>\n",
       "      <th>Blood Oxygen Level (%)</th>\n",
       "      <th>Step Count</th>\n",
       "      <th>Sleep Duration (hours)</th>\n",
       "      <th>Activity Level</th>\n",
       "      <th>Stress Level</th>\n",
       "    </tr>\n",
       "  </thead>\n",
       "  <tbody>\n",
       "    <tr>\n",
       "      <th>2</th>\n",
       "      <td>1860.0</td>\n",
       "      <td>75.132684</td>\n",
       "      <td>97.052954</td>\n",
       "      <td>2826.521994</td>\n",
       "      <td>NaN</td>\n",
       "      <td>Highly Active</td>\n",
       "      <td>5</td>\n",
       "    </tr>\n",
       "    <tr>\n",
       "      <th>9438</th>\n",
       "      <td>4411.0</td>\n",
       "      <td>75.132684</td>\n",
       "      <td>99.524016</td>\n",
       "      <td>11209.020829</td>\n",
       "      <td>NaN</td>\n",
       "      <td>Highly Active</td>\n",
       "      <td>3</td>\n",
       "    </tr>\n",
       "    <tr>\n",
       "      <th>1262</th>\n",
       "      <td>4465.0</td>\n",
       "      <td>75.132684</td>\n",
       "      <td>97.113032</td>\n",
       "      <td>51.448103</td>\n",
       "      <td>NaN</td>\n",
       "      <td>Highly_Active</td>\n",
       "      <td>6</td>\n",
       "    </tr>\n",
       "    <tr>\n",
       "      <th>2039</th>\n",
       "      <td>1492.0</td>\n",
       "      <td>75.132684</td>\n",
       "      <td>98.223658</td>\n",
       "      <td>7741.843501</td>\n",
       "      <td>NaN</td>\n",
       "      <td>Highly_Active</td>\n",
       "      <td>5</td>\n",
       "    </tr>\n",
       "    <tr>\n",
       "      <th>2543</th>\n",
       "      <td>4441.0</td>\n",
       "      <td>75.132684</td>\n",
       "      <td>100.000000</td>\n",
       "      <td>12917.213806</td>\n",
       "      <td>NaN</td>\n",
       "      <td>Sedentary</td>\n",
       "      <td>6</td>\n",
       "    </tr>\n",
       "    <tr>\n",
       "      <th>...</th>\n",
       "      <td>...</td>\n",
       "      <td>...</td>\n",
       "      <td>...</td>\n",
       "      <td>...</td>\n",
       "      <td>...</td>\n",
       "      <td>...</td>\n",
       "      <td>...</td>\n",
       "    </tr>\n",
       "    <tr>\n",
       "      <th>9943</th>\n",
       "      <td>2961.0</td>\n",
       "      <td>91.834863</td>\n",
       "      <td>96.145378</td>\n",
       "      <td>21278.851963</td>\n",
       "      <td>NaN</td>\n",
       "      <td>Active</td>\n",
       "      <td>4</td>\n",
       "    </tr>\n",
       "    <tr>\n",
       "      <th>8642</th>\n",
       "      <td>3476.0</td>\n",
       "      <td>75.132684</td>\n",
       "      <td>99.462778</td>\n",
       "      <td>4634.537130</td>\n",
       "      <td>NaN</td>\n",
       "      <td>Active</td>\n",
       "      <td>3</td>\n",
       "    </tr>\n",
       "    <tr>\n",
       "      <th>1456</th>\n",
       "      <td>2997.0</td>\n",
       "      <td>54.116580</td>\n",
       "      <td>95.631824</td>\n",
       "      <td>4634.537130</td>\n",
       "      <td>NaN</td>\n",
       "      <td>Active</td>\n",
       "      <td>1</td>\n",
       "    </tr>\n",
       "    <tr>\n",
       "      <th>4349</th>\n",
       "      <td>2677.0</td>\n",
       "      <td>73.357223</td>\n",
       "      <td>95.335209</td>\n",
       "      <td>4634.537130</td>\n",
       "      <td>NaN</td>\n",
       "      <td>Sedentary</td>\n",
       "      <td>1</td>\n",
       "    </tr>\n",
       "    <tr>\n",
       "      <th>6992</th>\n",
       "      <td>2105.0</td>\n",
       "      <td>97.477048</td>\n",
       "      <td>94.138582</td>\n",
       "      <td>4634.537130</td>\n",
       "      <td>NaN</td>\n",
       "      <td>Seddentary</td>\n",
       "      <td>7</td>\n",
       "    </tr>\n",
       "  </tbody>\n",
       "</table>\n",
       "<p>247 rows × 7 columns</p>\n",
       "</div>"
      ],
      "text/plain": [
       "      User ID  Heart Rate (BPM)  Blood Oxygen Level (%)    Step Count  \\\n",
       "2      1860.0         75.132684               97.052954   2826.521994   \n",
       "9438   4411.0         75.132684               99.524016  11209.020829   \n",
       "1262   4465.0         75.132684               97.113032     51.448103   \n",
       "2039   1492.0         75.132684               98.223658   7741.843501   \n",
       "2543   4441.0         75.132684              100.000000  12917.213806   \n",
       "...       ...               ...                     ...           ...   \n",
       "9943   2961.0         91.834863               96.145378  21278.851963   \n",
       "8642   3476.0         75.132684               99.462778   4634.537130   \n",
       "1456   2997.0         54.116580               95.631824   4634.537130   \n",
       "4349   2677.0         73.357223               95.335209   4634.537130   \n",
       "6992   2105.0         97.477048               94.138582   4634.537130   \n",
       "\n",
       "      Sleep Duration (hours) Activity Level Stress Level  \n",
       "2                        NaN  Highly Active            5  \n",
       "9438                     NaN  Highly Active            3  \n",
       "1262                     NaN  Highly_Active            6  \n",
       "2039                     NaN  Highly_Active            5  \n",
       "2543                     NaN      Sedentary            6  \n",
       "...                      ...            ...          ...  \n",
       "9943                     NaN         Active            4  \n",
       "8642                     NaN         Active            3  \n",
       "1456                     NaN         Active            1  \n",
       "4349                     NaN      Sedentary            1  \n",
       "6992                     NaN     Seddentary            7  \n",
       "\n",
       "[247 rows x 7 columns]"
      ]
     },
     "execution_count": 96,
     "metadata": {},
     "output_type": "execute_result"
    }
   ],
   "source": [
    "errorTable['Sleep Duration (hours)'] = np.nan\n",
    "\n",
    "errorTable"
   ]
  },
  {
   "cell_type": "markdown",
   "metadata": {},
   "source": [
    "Now we could go through and put the tables back together, but another method to do this is to use a built-in function to pandas called `pd.to_numeric()`. Let's try that. "
   ]
  },
  {
   "cell_type": "code",
   "execution_count": null,
   "metadata": {},
   "outputs": [
    {
     "data": {
      "text/html": [
       "<div>\n",
       "<style scoped>\n",
       "    .dataframe tbody tr th:only-of-type {\n",
       "        vertical-align: middle;\n",
       "    }\n",
       "\n",
       "    .dataframe tbody tr th {\n",
       "        vertical-align: top;\n",
       "    }\n",
       "\n",
       "    .dataframe thead th {\n",
       "        text-align: right;\n",
       "    }\n",
       "</style>\n",
       "<table border=\"1\" class=\"dataframe\">\n",
       "  <thead>\n",
       "    <tr style=\"text-align: right;\">\n",
       "      <th></th>\n",
       "      <th>User ID</th>\n",
       "      <th>Heart Rate (BPM)</th>\n",
       "      <th>Blood Oxygen Level (%)</th>\n",
       "      <th>Step Count</th>\n",
       "      <th>Sleep Duration (hours)</th>\n",
       "      <th>Activity Level</th>\n",
       "      <th>Stress Level</th>\n",
       "    </tr>\n",
       "  </thead>\n",
       "  <tbody>\n",
       "    <tr>\n",
       "      <th>2</th>\n",
       "      <td>1860.0</td>\n",
       "      <td>75.132684</td>\n",
       "      <td>97.052954</td>\n",
       "      <td>2826.521994</td>\n",
       "      <td>NaN</td>\n",
       "      <td>Highly Active</td>\n",
       "      <td>5</td>\n",
       "    </tr>\n",
       "    <tr>\n",
       "      <th>337</th>\n",
       "      <td>2369.0</td>\n",
       "      <td>75.132684</td>\n",
       "      <td>95.441773</td>\n",
       "      <td>2998.761919</td>\n",
       "      <td>6.670622</td>\n",
       "      <td>Highly Active</td>\n",
       "      <td>9</td>\n",
       "    </tr>\n",
       "    <tr>\n",
       "      <th>393</th>\n",
       "      <td>2443.0</td>\n",
       "      <td>75.132684</td>\n",
       "      <td>95.497181</td>\n",
       "      <td>1227.804688</td>\n",
       "      <td>5.185245</td>\n",
       "      <td>Highly_Active</td>\n",
       "      <td>9</td>\n",
       "    </tr>\n",
       "    <tr>\n",
       "      <th>403</th>\n",
       "      <td>3200.0</td>\n",
       "      <td>75.132684</td>\n",
       "      <td>96.011492</td>\n",
       "      <td>9402.746140</td>\n",
       "      <td>7.190063</td>\n",
       "      <td>Highly_Active</td>\n",
       "      <td>9</td>\n",
       "    </tr>\n",
       "    <tr>\n",
       "      <th>595</th>\n",
       "      <td>2129.0</td>\n",
       "      <td>75.132684</td>\n",
       "      <td>97.161853</td>\n",
       "      <td>2555.402184</td>\n",
       "      <td>5.928628</td>\n",
       "      <td>Highly Active</td>\n",
       "      <td>7</td>\n",
       "    </tr>\n",
       "    <tr>\n",
       "      <th>...</th>\n",
       "      <td>...</td>\n",
       "      <td>...</td>\n",
       "      <td>...</td>\n",
       "      <td>...</td>\n",
       "      <td>...</td>\n",
       "      <td>...</td>\n",
       "      <td>...</td>\n",
       "    </tr>\n",
       "    <tr>\n",
       "      <th>9121</th>\n",
       "      <td>NaN</td>\n",
       "      <td>54.793814</td>\n",
       "      <td>99.670176</td>\n",
       "      <td>4634.537130</td>\n",
       "      <td>6.686431</td>\n",
       "      <td>Seddentary</td>\n",
       "      <td>2</td>\n",
       "    </tr>\n",
       "    <tr>\n",
       "      <th>9191</th>\n",
       "      <td>4516.0</td>\n",
       "      <td>101.777396</td>\n",
       "      <td>100.000000</td>\n",
       "      <td>4634.537130</td>\n",
       "      <td>8.079895</td>\n",
       "      <td>Active</td>\n",
       "      <td>10</td>\n",
       "    </tr>\n",
       "    <tr>\n",
       "      <th>9565</th>\n",
       "      <td>4495.0</td>\n",
       "      <td>90.411615</td>\n",
       "      <td>95.009355</td>\n",
       "      <td>4634.537130</td>\n",
       "      <td>8.582820</td>\n",
       "      <td>Sedentary</td>\n",
       "      <td>4</td>\n",
       "    </tr>\n",
       "    <tr>\n",
       "      <th>1509</th>\n",
       "      <td>4719.0</td>\n",
       "      <td>107.126196</td>\n",
       "      <td>98.010642</td>\n",
       "      <td>4634.537130</td>\n",
       "      <td>7.213924</td>\n",
       "      <td>Sedentary</td>\n",
       "      <td>2</td>\n",
       "    </tr>\n",
       "    <tr>\n",
       "      <th>1778</th>\n",
       "      <td>1395.0</td>\n",
       "      <td>74.038855</td>\n",
       "      <td>91.034463</td>\n",
       "      <td>4634.537130</td>\n",
       "      <td>5.299209</td>\n",
       "      <td>Seddentary</td>\n",
       "      <td>9</td>\n",
       "    </tr>\n",
       "  </tbody>\n",
       "</table>\n",
       "<p>10000 rows × 7 columns</p>\n",
       "</div>"
      ],
      "text/plain": [
       "      User ID  Heart Rate (BPM)  Blood Oxygen Level (%)   Step Count  \\\n",
       "2      1860.0         75.132684               97.052954  2826.521994   \n",
       "337    2369.0         75.132684               95.441773  2998.761919   \n",
       "393    2443.0         75.132684               95.497181  1227.804688   \n",
       "403    3200.0         75.132684               96.011492  9402.746140   \n",
       "595    2129.0         75.132684               97.161853  2555.402184   \n",
       "...       ...               ...                     ...          ...   \n",
       "9121      NaN         54.793814               99.670176  4634.537130   \n",
       "9191   4516.0        101.777396              100.000000  4634.537130   \n",
       "9565   4495.0         90.411615               95.009355  4634.537130   \n",
       "1509   4719.0        107.126196               98.010642  4634.537130   \n",
       "1778   1395.0         74.038855               91.034463  4634.537130   \n",
       "\n",
       "      Sleep Duration (hours) Activity Level Stress Level  \n",
       "2                        NaN  Highly Active            5  \n",
       "337                 6.670622  Highly Active            9  \n",
       "393                 5.185245  Highly_Active            9  \n",
       "403                 7.190063  Highly_Active            9  \n",
       "595                 5.928628  Highly Active            7  \n",
       "...                      ...            ...          ...  \n",
       "9121                6.686431     Seddentary            2  \n",
       "9191                8.079895         Active           10  \n",
       "9565                8.582820      Sedentary            4  \n",
       "1509                7.213924      Sedentary            2  \n",
       "1778                5.299209     Seddentary            9  \n",
       "\n",
       "[10000 rows x 7 columns]"
      ]
     },
     "execution_count": 97,
     "metadata": {},
     "output_type": "execute_result"
    }
   ],
   "source": [
    "## create a copy of the table \n",
    "smartwatch_sleep = smartwatch_steps\n",
    "\n",
    "smartwatch_sleep['Sleep Duration (hours)'] = pd.to_numeric(smartwatch_sleep['Sleep Duration (hours)'], errors='coerce')\n",
    "\n",
    "smartwatch_sleep"
   ]
  },
  {
   "cell_type": "markdown",
   "metadata": {},
   "source": [
    "Now we can finish **Question 8** and find the minimum, maximum, and mean of the sleep duration column. "
   ]
  },
  {
   "cell_type": "code",
   "execution_count": null,
   "metadata": {},
   "outputs": [
    {
     "data": {
      "text/plain": [
       "(-0.1944527906201543, 12.140232872862926, 6.505462918406444)"
      ]
     },
     "execution_count": 98,
     "metadata": {},
     "output_type": "execute_result"
    }
   ],
   "source": [
    "minSleep = float(smartwatch_sleep['Sleep Duration (hours)'].min())\n",
    "\n",
    "maxSleep = float(smartwatch_sleep['Sleep Duration (hours)'].max())\n",
    "\n",
    "meanSleep = float(smartwatch_sleep['Sleep Duration (hours)'].mean())\n",
    "\n",
    "minSleep, maxSleep, meanSleep"
   ]
  },
  {
   "cell_type": "code",
   "execution_count": null,
   "metadata": {},
   "outputs": [
    {
     "data": {
      "text/html": [
       "<p><strong><pre style='display: inline;'>Question 8</pre></strong> passed! 🍀</p>"
      ],
      "text/plain": [
       "Question 8 results: All test cases passed!"
      ]
     },
     "execution_count": 99,
     "metadata": {},
     "output_type": "execute_result"
    }
   ],
   "source": [
    "grader.check('q8')"
   ]
  },
  {
   "cell_type": "markdown",
   "metadata": {},
   "source": [
    "**Question 9**: Decide how you want to deal with missing and outlier values in the sleep column. Set your final table equal to the variable `smartwatch_updated_sleep`. Use the space below to explain your decisions. \n",
    "\n",
    "*Remember to start with the `smartwatch_sleep` table that we just created.*\n",
    "\n",
    "Notes: Refer to [this article](https://pmc.ncbi.nlm.nih.gov/articles/PMC5548942/) on methods of handling these type of instances in data. Keep in mind, you might find that either there are no missing values or no outliers. That's okay, just indicate that in the written space below and update the table i.e. `smartwatch_updated_sleep = smartwatch_sleep`\n",
    "\n",
    "ANSWER: There are 45 outliers and 397 missing values. Since as we learned before with question 8 deleting values will change future analysis of this data set we can perserve the values by imputing the missing values with the mean as the data is a normally distrubuted and windsorizing the outliars where the lower values will be replaced with the second lowest and the higher values will be replaced with the highest value that are not outliers so that the data can be as simlar to the orginal values. We can impute and windsorize because no clear pattern is shown to why they are outliers or null values and deletion would not work since the deletion will reduce the dataset by more than 4%"
   ]
  },
  {
   "cell_type": "code",
   "execution_count": null,
   "metadata": {},
   "outputs": [
    {
     "name": "stdout",
     "output_type": "stream",
     "text": [
      "397\n",
      "9603\n",
      "0.0397\n",
      "low 2.440514741133737\n",
      "high 10.582662682074801\n",
      "length 45\n",
      "      User ID  Heart Rate (BPM)  Blood Oxygen Level (%)    Step Count  \\\n",
      "295    3432.0         68.374374               99.941652    877.602554   \n",
      "384    1403.0         59.511764               98.532708   2763.666657   \n",
      "459    1658.0         65.173266               97.361383    960.362774   \n",
      "577    4691.0         73.656778              100.000000   2044.688131   \n",
      "1058   1487.0         76.834638              100.000000   3952.829137   \n",
      "1164   2969.0         71.510970              100.000000   2141.902659   \n",
      "1534   1711.0         69.870240               96.175940  13078.815233   \n",
      "1729   4675.0         92.269195               98.790525   9681.145639   \n",
      "1886   1186.0         63.819276              100.000000   2663.352162   \n",
      "2133   4401.0         91.964082               97.171460    652.741730   \n",
      "2137   3265.0         79.173895              100.000000   1492.374172   \n",
      "2400   1933.0         46.363033               99.736804   1510.900469   \n",
      "2492   3936.0         73.018575              100.000000   3546.105365   \n",
      "2634   2712.0         53.079149               94.937905   1955.915367   \n",
      "2868   1488.0         80.303352               96.620156  14308.741282   \n",
      "2910   3009.0         93.576744               97.150920   3377.584984   \n",
      "3207   2766.0         91.591995               98.450727   8811.484804   \n",
      "3264   4078.0         79.568061               99.268270   4000.982032   \n",
      "3366   1608.0         78.832837              100.000000   7122.866517   \n",
      "3477   1788.0         91.014161               97.510911  10112.951696   \n",
      "4022   1343.0         86.880968               99.925376   5928.993113   \n",
      "4135   3413.0         87.161390               99.275651  13241.688685   \n",
      "4309   2750.0         93.653726               97.444130   6987.884444   \n",
      "4453   3620.0         90.118025               96.129381   7204.824554   \n",
      "4838   1976.0         71.630777              100.000000   4658.913253   \n",
      "5045   4555.0         95.760846              100.000000   7574.961023   \n",
      "5091   3341.0         40.000000               99.483077   5113.303613   \n",
      "5559   1273.0         75.105388               98.688556   4948.706571   \n",
      "5812   2907.0         60.751130               99.876732    590.948288   \n",
      "5818   2293.0         80.840205               98.691372   5033.180668   \n",
      "6125   2911.0         85.802512               98.606868  13325.896942   \n",
      "6668   4770.0         84.631370               96.004170   9000.775767   \n",
      "6764   2874.0         78.224591               97.232685   3171.379061   \n",
      "6914   4491.0         73.087120              100.000000   2391.392453   \n",
      "6949   2963.0         61.547883               95.235542   5124.277923   \n",
      "7055   3469.0         69.043880               97.591043   4953.854017   \n",
      "7653   1958.0         50.827758               98.787894   6236.209672   \n",
      "7668   3806.0         95.094201              100.000000   2431.673983   \n",
      "8790   3984.0         74.880180               97.449862   3047.331699   \n",
      "9105   4810.0        102.184124               96.217257   7511.948052   \n",
      "9283      NaN         82.890070              100.000000   4909.674198   \n",
      "9293   3809.0         74.661369              100.000000  10836.505727   \n",
      "9871   2545.0         60.600081               96.662369   3824.779417   \n",
      "252    1709.0         77.099211               98.010642   3465.970911   \n",
      "2733   3003.0         53.224481               95.692628   4634.537130   \n",
      "\n",
      "      Sleep Duration (hours) Activity Level Stress Level  \n",
      "295                11.007690          Actve            7  \n",
      "384                10.645765          Actve            8  \n",
      "459                12.140233         Active            3  \n",
      "577                 2.302539  Highly Active            4  \n",
      "1058               10.771841  Highly_Active            8  \n",
      "1164                2.142520          Actve          NaN  \n",
      "1534                2.418273          Actve            9  \n",
      "1729                2.222423         Active            8  \n",
      "1886               10.702360         Active            9  \n",
      "2133                1.402507          Actve            1  \n",
      "2137               10.596063            NaN            1  \n",
      "2400               10.609047            NaN            8  \n",
      "2492                0.589987          Actve            3  \n",
      "2634                1.706087         Active            2  \n",
      "2868                2.320613     Seddentary            4  \n",
      "2910                1.975132         Active            2  \n",
      "3207                2.393430  Highly Active            2  \n",
      "3264                1.834998  Highly_Active            2  \n",
      "3366               -0.194453      Sedentary           10  \n",
      "3477               11.043845     Seddentary            6  \n",
      "4022                1.287444  Highly_Active            7  \n",
      "4135               10.694713     Seddentary            2  \n",
      "4309               10.751591     Seddentary            9  \n",
      "4453                2.112415          Actve          NaN  \n",
      "4838                2.285991  Highly Active            7  \n",
      "5045                1.725435          Actve            8  \n",
      "5091               10.613025      Sedentary            4  \n",
      "5559               11.248580         Active            4  \n",
      "5812               11.258370          Actve            6  \n",
      "5818                1.809828  Highly_Active            9  \n",
      "6125               10.687747         Active            6  \n",
      "6668               11.908386  Highly Active            4  \n",
      "6764                1.993022  Highly_Active            5  \n",
      "6914                2.152857      Sedentary            3  \n",
      "6949               11.113491     Seddentary           10  \n",
      "7055               10.595332     Seddentary            2  \n",
      "7653               10.932997         Active          NaN  \n",
      "7668                1.788832     Seddentary            9  \n",
      "8790                1.804320     Seddentary            5  \n",
      "9105               10.656359  Highly Active            8  \n",
      "9283                2.069939      Sedentary            7  \n",
      "9293               11.658064         Active            1  \n",
      "9871               11.587615         Active            3  \n",
      "252                 1.108614  Highly Active            9  \n",
      "2733               11.188196         Active            8  \n",
      "      User ID  Heart Rate (BPM)  Blood Oxygen Level (%)    Step Count  \\\n",
      "2      1860.0         75.132684               97.052954   2826.521994   \n",
      "9438   4411.0         75.132684               99.524016  11209.020829   \n",
      "1262   4465.0         75.132684               97.113032     51.448103   \n",
      "1371   3039.0         75.132684               97.116211   2761.853974   \n",
      "2039   1492.0         75.132684               98.223658   7741.843501   \n",
      "...       ...               ...                     ...           ...   \n",
      "8642   3476.0         75.132684               99.462778   4634.537130   \n",
      "1456   2997.0         54.116580               95.631824   4634.537130   \n",
      "4349   2677.0         73.357223               95.335209   4634.537130   \n",
      "5177   2997.0         70.484333               97.615592   4634.537130   \n",
      "6992   2105.0         97.477048               94.138582   4634.537130   \n",
      "\n",
      "      Sleep Duration (hours) Activity Level Stress Level  \n",
      "2                        NaN  Highly Active            5  \n",
      "9438                     NaN  Highly Active            3  \n",
      "1262                     NaN  Highly_Active            6  \n",
      "1371                     NaN  Highly Active            9  \n",
      "2039                     NaN  Highly_Active            5  \n",
      "...                      ...            ...          ...  \n",
      "8642                     NaN         Active            3  \n",
      "1456                     NaN         Active            1  \n",
      "4349                     NaN      Sedentary            1  \n",
      "5177                     NaN          Actve            1  \n",
      "6992                     NaN     Seddentary            7  \n",
      "\n",
      "[397 rows x 7 columns]\n",
      "total outlier and missing:\n",
      "442\n",
      "0.0442\n",
      "      User ID  Heart Rate (BPM)  Blood Oxygen Level (%)    Step Count  \\\n",
      "295    3432.0         68.374374               99.941652    877.602554   \n",
      "384    1403.0         59.511764               98.532708   2763.666657   \n",
      "459    1658.0         65.173266               97.361383    960.362774   \n",
      "577    4691.0         73.656778              100.000000   2044.688131   \n",
      "1058   1487.0         76.834638              100.000000   3952.829137   \n",
      "1164   2969.0         71.510970              100.000000   2141.902659   \n",
      "1534   1711.0         69.870240               96.175940  13078.815233   \n",
      "1729   4675.0         92.269195               98.790525   9681.145639   \n",
      "1886   1186.0         63.819276              100.000000   2663.352162   \n",
      "2133   4401.0         91.964082               97.171460    652.741730   \n",
      "2137   3265.0         79.173895              100.000000   1492.374172   \n",
      "2400   1933.0         46.363033               99.736804   1510.900469   \n",
      "2492   3936.0         73.018575              100.000000   3546.105365   \n",
      "2634   2712.0         53.079149               94.937905   1955.915367   \n",
      "2868   1488.0         80.303352               96.620156  14308.741282   \n",
      "2910   3009.0         93.576744               97.150920   3377.584984   \n",
      "3207   2766.0         91.591995               98.450727   8811.484804   \n",
      "3264   4078.0         79.568061               99.268270   4000.982032   \n",
      "3366   1608.0         78.832837              100.000000   7122.866517   \n",
      "3477   1788.0         91.014161               97.510911  10112.951696   \n",
      "4022   1343.0         86.880968               99.925376   5928.993113   \n",
      "4135   3413.0         87.161390               99.275651  13241.688685   \n",
      "4309   2750.0         93.653726               97.444130   6987.884444   \n",
      "4453   3620.0         90.118025               96.129381   7204.824554   \n",
      "4838   1976.0         71.630777              100.000000   4658.913253   \n",
      "5045   4555.0         95.760846              100.000000   7574.961023   \n",
      "5091   3341.0         40.000000               99.483077   5113.303613   \n",
      "5559   1273.0         75.105388               98.688556   4948.706571   \n",
      "5812   2907.0         60.751130               99.876732    590.948288   \n",
      "5818   2293.0         80.840205               98.691372   5033.180668   \n",
      "6125   2911.0         85.802512               98.606868  13325.896942   \n",
      "6668   4770.0         84.631370               96.004170   9000.775767   \n",
      "6764   2874.0         78.224591               97.232685   3171.379061   \n",
      "6914   4491.0         73.087120              100.000000   2391.392453   \n",
      "6949   2963.0         61.547883               95.235542   5124.277923   \n",
      "7055   3469.0         69.043880               97.591043   4953.854017   \n",
      "7653   1958.0         50.827758               98.787894   6236.209672   \n",
      "7668   3806.0         95.094201              100.000000   2431.673983   \n",
      "8790   3984.0         74.880180               97.449862   3047.331699   \n",
      "9105   4810.0        102.184124               96.217257   7511.948052   \n",
      "9283      NaN         82.890070              100.000000   4909.674198   \n",
      "9293   3809.0         74.661369              100.000000  10836.505727   \n",
      "9871   2545.0         60.600081               96.662369   3824.779417   \n",
      "252    1709.0         77.099211               98.010642   3465.970911   \n",
      "2733   3003.0         53.224481               95.692628   4634.537130   \n",
      "\n",
      "      Sleep Duration (hours) Activity Level Stress Level  \n",
      "295                11.007690          Actve            7  \n",
      "384                10.645765          Actve            8  \n",
      "459                12.140233         Active            3  \n",
      "577                 2.302539  Highly Active            4  \n",
      "1058               10.771841  Highly_Active            8  \n",
      "1164                2.142520          Actve          NaN  \n",
      "1534                2.418273          Actve            9  \n",
      "1729                2.222423         Active            8  \n",
      "1886               10.702360         Active            9  \n",
      "2133                1.402507          Actve            1  \n",
      "2137               10.596063            NaN            1  \n",
      "2400               10.609047            NaN            8  \n",
      "2492                0.589987          Actve            3  \n",
      "2634                1.706087         Active            2  \n",
      "2868                2.320613     Seddentary            4  \n",
      "2910                1.975132         Active            2  \n",
      "3207                2.393430  Highly Active            2  \n",
      "3264                1.834998  Highly_Active            2  \n",
      "3366               -0.194453      Sedentary           10  \n",
      "3477               11.043845     Seddentary            6  \n",
      "4022                1.287444  Highly_Active            7  \n",
      "4135               10.694713     Seddentary            2  \n",
      "4309               10.751591     Seddentary            9  \n",
      "4453                2.112415          Actve          NaN  \n",
      "4838                2.285991  Highly Active            7  \n",
      "5045                1.725435          Actve            8  \n",
      "5091               10.613025      Sedentary            4  \n",
      "5559               11.248580         Active            4  \n",
      "5812               11.258370          Actve            6  \n",
      "5818                1.809828  Highly_Active            9  \n",
      "6125               10.687747         Active            6  \n",
      "6668               11.908386  Highly Active            4  \n",
      "6764                1.993022  Highly_Active            5  \n",
      "6914                2.152857      Sedentary            3  \n",
      "6949               11.113491     Seddentary           10  \n",
      "7055               10.595332     Seddentary            2  \n",
      "7653               10.932997         Active          NaN  \n",
      "7668                1.788832     Seddentary            9  \n",
      "8790                1.804320     Seddentary            5  \n",
      "9105               10.656359  Highly Active            8  \n",
      "9283                2.069939      Sedentary            7  \n",
      "9293               11.658064         Active            1  \n",
      "9871               11.587615         Active            3  \n",
      "252                 1.108614  Highly Active            9  \n",
      "2733               11.188196         Active            8  \n",
      "6.506413092553947\n",
      "6.506118043585955\n"
     ]
    },
    {
     "name": "stderr",
     "output_type": "stream",
     "text": [
      "/tmp/ipykernel_234060/3720473913.py:36: SettingWithCopyWarning: \n",
      "A value is trying to be set on a copy of a slice from a DataFrame.\n",
      "Try using .loc[row_indexer,col_indexer] = value instead\n",
      "\n",
      "See the caveats in the documentation: https://pandas.pydata.org/pandas-docs/stable/user_guide/indexing.html#returning-a-view-versus-a-copy\n",
      "  outlier_sleep_up['Sleep Duration (hours)'] = smartwatch_updated_sleep['Sleep Duration (hours)'].max();\n",
      "/tmp/ipykernel_234060/3720473913.py:37: SettingWithCopyWarning: \n",
      "A value is trying to be set on a copy of a slice from a DataFrame.\n",
      "Try using .loc[row_indexer,col_indexer] = value instead\n",
      "\n",
      "See the caveats in the documentation: https://pandas.pydata.org/pandas-docs/stable/user_guide/indexing.html#returning-a-view-versus-a-copy\n",
      "  outlier_sleep_low['Sleep Duration (hours)'] = smartwatch_updated_sleep['Sleep Duration (hours)'].nsmallest(2).iloc[-1];\n",
      "/tmp/ipykernel_234060/3720473913.py:38: SettingWithCopyWarning: \n",
      "A value is trying to be set on a copy of a slice from a DataFrame.\n",
      "Try using .loc[row_indexer,col_indexer] = value instead\n",
      "\n",
      "See the caveats in the documentation: https://pandas.pydata.org/pandas-docs/stable/user_guide/indexing.html#returning-a-view-versus-a-copy\n",
      "  null_sleep['Sleep Duration (hours)'] = smartwatch_updated_sleep['Sleep Duration (hours)'].mean();\n"
     ]
    },
    {
     "data": {
      "text/html": [
       "<div>\n",
       "<style scoped>\n",
       "    .dataframe tbody tr th:only-of-type {\n",
       "        vertical-align: middle;\n",
       "    }\n",
       "\n",
       "    .dataframe tbody tr th {\n",
       "        vertical-align: top;\n",
       "    }\n",
       "\n",
       "    .dataframe thead th {\n",
       "        text-align: right;\n",
       "    }\n",
       "</style>\n",
       "<table border=\"1\" class=\"dataframe\">\n",
       "  <thead>\n",
       "    <tr style=\"text-align: right;\">\n",
       "      <th></th>\n",
       "      <th>User ID</th>\n",
       "      <th>Heart Rate (BPM)</th>\n",
       "      <th>Blood Oxygen Level (%)</th>\n",
       "      <th>Step Count</th>\n",
       "      <th>Sleep Duration (hours)</th>\n",
       "      <th>Activity Level</th>\n",
       "      <th>Stress Level</th>\n",
       "    </tr>\n",
       "  </thead>\n",
       "  <tbody>\n",
       "    <tr>\n",
       "      <th>337</th>\n",
       "      <td>2369.0</td>\n",
       "      <td>75.132684</td>\n",
       "      <td>95.441773</td>\n",
       "      <td>2998.761919</td>\n",
       "      <td>6.670622</td>\n",
       "      <td>Highly Active</td>\n",
       "      <td>9</td>\n",
       "    </tr>\n",
       "    <tr>\n",
       "      <th>393</th>\n",
       "      <td>2443.0</td>\n",
       "      <td>75.132684</td>\n",
       "      <td>95.497181</td>\n",
       "      <td>1227.804688</td>\n",
       "      <td>5.185245</td>\n",
       "      <td>Highly_Active</td>\n",
       "      <td>9</td>\n",
       "    </tr>\n",
       "    <tr>\n",
       "      <th>403</th>\n",
       "      <td>3200.0</td>\n",
       "      <td>75.132684</td>\n",
       "      <td>96.011492</td>\n",
       "      <td>9402.746140</td>\n",
       "      <td>7.190063</td>\n",
       "      <td>Highly_Active</td>\n",
       "      <td>9</td>\n",
       "    </tr>\n",
       "    <tr>\n",
       "      <th>595</th>\n",
       "      <td>2129.0</td>\n",
       "      <td>75.132684</td>\n",
       "      <td>97.161853</td>\n",
       "      <td>2555.402184</td>\n",
       "      <td>5.928628</td>\n",
       "      <td>Highly Active</td>\n",
       "      <td>7</td>\n",
       "    </tr>\n",
       "    <tr>\n",
       "      <th>649</th>\n",
       "      <td>2008.0</td>\n",
       "      <td>75.132684</td>\n",
       "      <td>98.356789</td>\n",
       "      <td>2739.171166</td>\n",
       "      <td>7.272010</td>\n",
       "      <td>Highly_Active</td>\n",
       "      <td>NaN</td>\n",
       "    </tr>\n",
       "    <tr>\n",
       "      <th>...</th>\n",
       "      <td>...</td>\n",
       "      <td>...</td>\n",
       "      <td>...</td>\n",
       "      <td>...</td>\n",
       "      <td>...</td>\n",
       "      <td>...</td>\n",
       "      <td>...</td>\n",
       "    </tr>\n",
       "    <tr>\n",
       "      <th>8642</th>\n",
       "      <td>3476.0</td>\n",
       "      <td>75.132684</td>\n",
       "      <td>99.462778</td>\n",
       "      <td>4634.537130</td>\n",
       "      <td>6.506413</td>\n",
       "      <td>Active</td>\n",
       "      <td>3</td>\n",
       "    </tr>\n",
       "    <tr>\n",
       "      <th>1456</th>\n",
       "      <td>2997.0</td>\n",
       "      <td>54.116580</td>\n",
       "      <td>95.631824</td>\n",
       "      <td>4634.537130</td>\n",
       "      <td>6.506413</td>\n",
       "      <td>Active</td>\n",
       "      <td>1</td>\n",
       "    </tr>\n",
       "    <tr>\n",
       "      <th>4349</th>\n",
       "      <td>2677.0</td>\n",
       "      <td>73.357223</td>\n",
       "      <td>95.335209</td>\n",
       "      <td>4634.537130</td>\n",
       "      <td>6.506413</td>\n",
       "      <td>Sedentary</td>\n",
       "      <td>1</td>\n",
       "    </tr>\n",
       "    <tr>\n",
       "      <th>5177</th>\n",
       "      <td>2997.0</td>\n",
       "      <td>70.484333</td>\n",
       "      <td>97.615592</td>\n",
       "      <td>4634.537130</td>\n",
       "      <td>6.506413</td>\n",
       "      <td>Actve</td>\n",
       "      <td>1</td>\n",
       "    </tr>\n",
       "    <tr>\n",
       "      <th>6992</th>\n",
       "      <td>2105.0</td>\n",
       "      <td>97.477048</td>\n",
       "      <td>94.138582</td>\n",
       "      <td>4634.537130</td>\n",
       "      <td>6.506413</td>\n",
       "      <td>Seddentary</td>\n",
       "      <td>7</td>\n",
       "    </tr>\n",
       "  </tbody>\n",
       "</table>\n",
       "<p>10000 rows × 7 columns</p>\n",
       "</div>"
      ],
      "text/plain": [
       "      User ID  Heart Rate (BPM)  Blood Oxygen Level (%)   Step Count  \\\n",
       "337    2369.0         75.132684               95.441773  2998.761919   \n",
       "393    2443.0         75.132684               95.497181  1227.804688   \n",
       "403    3200.0         75.132684               96.011492  9402.746140   \n",
       "595    2129.0         75.132684               97.161853  2555.402184   \n",
       "649    2008.0         75.132684               98.356789  2739.171166   \n",
       "...       ...               ...                     ...          ...   \n",
       "8642   3476.0         75.132684               99.462778  4634.537130   \n",
       "1456   2997.0         54.116580               95.631824  4634.537130   \n",
       "4349   2677.0         73.357223               95.335209  4634.537130   \n",
       "5177   2997.0         70.484333               97.615592  4634.537130   \n",
       "6992   2105.0         97.477048               94.138582  4634.537130   \n",
       "\n",
       "      Sleep Duration (hours) Activity Level Stress Level  \n",
       "337                 6.670622  Highly Active            9  \n",
       "393                 5.185245  Highly_Active            9  \n",
       "403                 7.190063  Highly_Active            9  \n",
       "595                 5.928628  Highly Active            7  \n",
       "649                 7.272010  Highly_Active          NaN  \n",
       "...                      ...            ...          ...  \n",
       "8642                6.506413         Active            3  \n",
       "1456                6.506413         Active            1  \n",
       "4349                6.506413      Sedentary            1  \n",
       "5177                6.506413          Actve            1  \n",
       "6992                6.506413     Seddentary            7  \n",
       "\n",
       "[10000 rows x 7 columns]"
      ]
     },
     "execution_count": 100,
     "metadata": {},
     "output_type": "execute_result"
    },
    {
     "data": {
      "image/png": "[encoded data removed]",
      "text/plain": [
       "<Figure size 640x480 with 1 Axes>"
      ]
     },
     "metadata": {},
     "output_type": "display_data"
    }
   ],
   "source": [
    "## use this space or additional cells to address the missing or outlier data. \n",
    "\n",
    "print(len(smartwatch_sleep[smartwatch_sleep['Sleep Duration (hours)'].isnull()]))\n",
    "print(len(smartwatch_sleep[~smartwatch_sleep['Sleep Duration (hours)'].isnull()]))\n",
    "print((len(smartwatch_sleep[smartwatch_sleep['Sleep Duration (hours)'].isnull()]))/len(smartwatch_sleep))\n",
    "\n",
    "q1 = smartwatch_sleep['Sleep Duration (hours)'].quantile(0.25)\n",
    "q3 = smartwatch_sleep['Sleep Duration (hours)'].quantile(0.75)\n",
    "iqr = q3 - q1\n",
    "low_fence = q1 - (1.5 * iqr)\n",
    "print(\"low \" + str(low_fence))\n",
    "up_fence = q3 + (1.5 * iqr)\n",
    "print(\"high \" + str(up_fence))\n",
    "\n",
    "outlier_sleep = smartwatch_sleep[(smartwatch_sleep['Sleep Duration (hours)'] > up_fence) | (smartwatch_sleep['Sleep Duration (hours)'] < low_fence)]\n",
    "up_sleep = smartwatch_sleep[(smartwatch_sleep['Sleep Duration (hours)'] > up_fence)]\n",
    "#print(up_outlier)\n",
    "print(\"length \" + str(len(outlier_sleep)))\n",
    "print(outlier_sleep)\n",
    "\n",
    "outlier_sleep_up = smartwatch_sleep[(smartwatch_sleep['Sleep Duration (hours)'] > up_fence)]\n",
    "\n",
    "outlier_sleep_low = smartwatch_sleep[(smartwatch_sleep['Sleep Duration (hours)'] < low_fence)]\n",
    "\n",
    "null_sleep = smartwatch_sleep[smartwatch_sleep['Sleep Duration (hours)'].isnull()]\n",
    "print(null_sleep)\n",
    "print(\"total outlier and missing:\")\n",
    "print((len(null_sleep) + len(outlier_sleep)))\n",
    "print((len(null_sleep) + len(outlier_sleep))/len(smartwatch_sleep))\n",
    "\n",
    "smartwatch_updated_sleep = smartwatch_sleep[\n",
    "    (~smartwatch_sleep['Sleep Duration (hours)'].isnull()) & \n",
    "    (smartwatch_sleep['Sleep Duration (hours)'] <= up_fence) & \n",
    "    (smartwatch_sleep['Sleep Duration (hours)'] >= low_fence)\n",
    "]\n",
    "outlier_sleep_up['Sleep Duration (hours)'] = smartwatch_updated_sleep['Sleep Duration (hours)'].max();\n",
    "outlier_sleep_low['Sleep Duration (hours)'] = smartwatch_updated_sleep['Sleep Duration (hours)'].nsmallest(2).iloc[-1];\n",
    "null_sleep['Sleep Duration (hours)'] = smartwatch_updated_sleep['Sleep Duration (hours)'].mean();\n",
    "print(outlier_sleep)\n",
    "print(smartwatch_updated_sleep['Sleep Duration (hours)'].mean())\n",
    "smartwatch_updated_sleep = pd.concat([smartwatch_updated_sleep, outlier_sleep_low, outlier_sleep_up, null_sleep])\n",
    "print(smartwatch_updated_sleep['Sleep Duration (hours)'].mean())\n",
    "\n",
    "sns.histplot(smartwatch_sleep[\"Sleep Duration (hours)\"], label ='With Missing Values and Outliers')\n",
    "#sns.histplot(smartwatch_o2[\"Blood Oxygen Level (%)\"], label = 'With Mean as Imputed Value')\n",
    "plt.legend()\n",
    "\n",
    "\n",
    "len(smartwatch_updated_sleep)\n",
    "smartwatch_updated_sleep"
   ]
  },
  {
   "cell_type": "markdown",
   "metadata": {},
   "source": [
    "We're going to skip the `Activity Level` column for a minute and look at the `Stress Level` column. If we try getting the minimum, we'll find the same error as in the Sleep column where we have mixed data types (strings and numerical values). Let's use the same type of loop to make sure we don't obscure any data by forcing the strings to NaN values. "
   ]
  },
  {
   "cell_type": "code",
   "execution_count": null,
   "metadata": {},
   "outputs": [
    {
     "name": "stdout",
     "output_type": "stream",
     "text": [
      "nan\n",
      "Very High\n"
     ]
    }
   ],
   "source": [
    "for item in smartwatch_updated_sleep['Stress Level'].unique():\n",
    "    try:\n",
    "        int(item)\n",
    "    except:\n",
    "        print(item)"
   ]
  },
  {
   "cell_type": "markdown",
   "metadata": {},
   "source": [
    "**Question 10**: \n",
    "\n",
    "What might you decide to do to deal with the `Very High` value? \n",
    "\n",
    "Go ahead and do so below and give a brief case for doing so here. Assign your table to the variable `smartwatch_stress`. \n",
    "\n",
    "ANSWER:We will replace very high with 8 since it indicates a reasonably high stress level."
   ]
  },
  {
   "cell_type": "code",
   "execution_count": null,
   "metadata": {},
   "outputs": [
    {
     "name": "stdout",
     "output_type": "stream",
     "text": [
      "      User ID  Heart Rate (BPM)  Blood Oxygen Level (%)    Step Count  \\\n",
      "337    2369.0         75.132684               95.441773   2998.761919   \n",
      "393    2443.0         75.132684               95.497181   1227.804688   \n",
      "403    3200.0         75.132684               96.011492   9402.746140   \n",
      "595    2129.0         75.132684               97.161853   2555.402184   \n",
      "1195   3261.0         75.132684               99.652006   2867.872064   \n",
      "...       ...               ...                     ...           ...   \n",
      "4713   1556.0         91.216912               98.777090  21278.851963   \n",
      "5175   2681.0         83.416616               95.620551  21278.851963   \n",
      "2403   2980.0         86.049161               97.042221   4634.537130   \n",
      "1700   1777.0         63.996994               95.465595  14088.912805   \n",
      "2421   4380.0         96.907879               97.099425    319.741554   \n",
      "\n",
      "      Sleep Duration (hours) Activity Level Stress Level  \n",
      "337                 6.670622  Highly Active            9  \n",
      "393                 5.185245  Highly_Active            9  \n",
      "403                 7.190063  Highly_Active            9  \n",
      "595                 5.928628  Highly Active            7  \n",
      "1195                7.218531         Active            7  \n",
      "...                      ...            ...          ...  \n",
      "4713                7.822021  Highly Active           10  \n",
      "5175                9.264643         Active           10  \n",
      "2403                6.045268  Highly Active           10  \n",
      "1700                6.506413  Highly Active           10  \n",
      "2421                6.506413      Sedentary           10  \n",
      "\n",
      "[9800 rows x 7 columns]\n"
     ]
    },
    {
     "name": "stderr",
     "output_type": "stream",
     "text": [
      "/tmp/ipykernel_234060/2404448865.py:4: SettingWithCopyWarning: \n",
      "A value is trying to be set on a copy of a slice from a DataFrame.\n",
      "Try using .loc[row_indexer,col_indexer] = value instead\n",
      "\n",
      "See the caveats in the documentation: https://pandas.pydata.org/pandas-docs/stable/user_guide/indexing.html#returning-a-view-versus-a-copy\n",
      "  highTable['Stress Level'] = 10\n"
     ]
    }
   ],
   "source": [
    "## cell to deal with 'Very High' value\n",
    "highTable = smartwatch_updated_sleep[smartwatch_updated_sleep['Stress Level'] == 'Very High']\n",
    "\n",
    "highTable['Stress Level'] = 10\n",
    "\n",
    "smartwatch_stress = smartwatch_updated_sleep[(smartwatch_updated_sleep['Stress Level'] != 'Very High') & (~smartwatch_updated_sleep['Stress Level'].isnull())]\n",
    "\n",
    "smartwatch_stress = pd.concat([smartwatch_stress, highTable])\n",
    "print(smartwatch_stress)\n"
   ]
  },
  {
   "cell_type": "markdown",
   "metadata": {},
   "source": [
    "Finally, let's go back to the `Activity Level` column and investigate what types of values we find there. "
   ]
  },
  {
   "cell_type": "code",
   "execution_count": null,
   "metadata": {},
   "outputs": [
    {
     "data": {
      "text/plain": [
       "array(['Highly Active', 'Highly_Active', 'Actve', 'Seddentary',\n",
       "       'Sedentary', 'Active', nan], dtype=object)"
      ]
     },
     "execution_count": 228,
     "metadata": {},
     "output_type": "execute_result"
    }
   ],
   "source": [
    "smartwatch['Activity Level'].unique()"
   ]
  },
  {
   "cell_type": "markdown",
   "metadata": {},
   "source": [
    "**Question 12**: \n",
    "\n",
    "What do you notice? There are several values that could and should be combined because they represent the same information. Let's go ahead and do that. While combining these columns, let's also create a new column `NumActivity` where we give a numerical value to represent the activity level. Assign your final table to the variable `final_table`. \n",
    "\n",
    "`Highly Active` = `1`\n",
    "\n",
    "`Active` = `2`\n",
    "\n",
    "`Sedentary` = `3`\n",
    "\n"
   ]
  },
  {
   "cell_type": "code",
   "execution_count": null,
   "metadata": {},
   "outputs": [
    {
     "name": "stdout",
     "output_type": "stream",
     "text": [
      "      User ID  Heart Rate (BPM)  Blood Oxygen Level (%)    Step Count  \\\n",
      "337    2369.0         75.132684               95.441773   2998.761919   \n",
      "393    2443.0         75.132684               95.497181   1227.804688   \n",
      "403    3200.0         75.132684               96.011492   9402.746140   \n",
      "595    2129.0         75.132684               97.161853   2555.402184   \n",
      "3451   2768.0         75.132684               96.761963   4723.116194   \n",
      "...       ...               ...                     ...           ...   \n",
      "2137   3265.0         79.173895              100.000000   1492.374172   \n",
      "2400   1933.0         46.363033               99.736804   1510.900469   \n",
      "4069   2577.0         65.201322               99.484801   2240.504798   \n",
      "4596   3501.0         76.063875               96.130100  12510.840514   \n",
      "8059   3895.0         78.398919              100.000000   2522.668511   \n",
      "\n",
      "      Sleep Duration (hours) Activity Level Stress Level  NumActivity  \n",
      "337                 6.670622  Highly_Active            9          1.0  \n",
      "393                 5.185245  Highly_Active            9          1.0  \n",
      "403                 7.190063  Highly_Active            9          1.0  \n",
      "595                 5.928628  Highly_Active            7          1.0  \n",
      "3451                7.656777  Highly_Active            3          1.0  \n",
      "...                      ...            ...          ...          ...  \n",
      "2137               10.566916            NaN            1          NaN  \n",
      "2400               10.566916            NaN            8          NaN  \n",
      "4069                6.506413            NaN            1          NaN  \n",
      "4596                6.506413            NaN            7          NaN  \n",
      "8059                6.506413            NaN            1          NaN  \n",
      "\n",
      "[8159 rows x 8 columns]\n"
     ]
    },
    {
     "name": "stderr",
     "output_type": "stream",
     "text": [
      "/tmp/ipykernel_234060/1968880481.py:3: SettingWithCopyWarning: \n",
      "A value is trying to be set on a copy of a slice from a DataFrame.\n",
      "Try using .loc[row_indexer,col_indexer] = value instead\n",
      "\n",
      "See the caveats in the documentation: https://pandas.pydata.org/pandas-docs/stable/user_guide/indexing.html#returning-a-view-versus-a-copy\n",
      "  highlyActive['Activity Level'] = 'Highly_Active'  ## Reset the text in the column to either 'Highly Active'\n",
      "/tmp/ipykernel_234060/1968880481.py:4: SettingWithCopyWarning: \n",
      "A value is trying to be set on a copy of a slice from a DataFrame.\n",
      "Try using .loc[row_indexer,col_indexer] = value instead\n",
      "\n",
      "See the caveats in the documentation: https://pandas.pydata.org/pandas-docs/stable/user_guide/indexing.html#returning-a-view-versus-a-copy\n",
      "  highlyActive['NumActivity'] = 1 ## set the number for the numerical value\n",
      "/tmp/ipykernel_234060/1968880481.py:9: SettingWithCopyWarning: \n",
      "A value is trying to be set on a copy of a slice from a DataFrame.\n",
      "Try using .loc[row_indexer,col_indexer] = value instead\n",
      "\n",
      "See the caveats in the documentation: https://pandas.pydata.org/pandas-docs/stable/user_guide/indexing.html#returning-a-view-versus-a-copy\n",
      "  active['Activity Level'] = 'Active'\n",
      "/tmp/ipykernel_234060/1968880481.py:10: SettingWithCopyWarning: \n",
      "A value is trying to be set on a copy of a slice from a DataFrame.\n",
      "Try using .loc[row_indexer,col_indexer] = value instead\n",
      "\n",
      "See the caveats in the documentation: https://pandas.pydata.org/pandas-docs/stable/user_guide/indexing.html#returning-a-view-versus-a-copy\n",
      "  active['NumActivity'] = 2\n",
      "/tmp/ipykernel_234060/1968880481.py:14: SettingWithCopyWarning: \n",
      "A value is trying to be set on a copy of a slice from a DataFrame.\n",
      "Try using .loc[row_indexer,col_indexer] = value instead\n",
      "\n",
      "See the caveats in the documentation: https://pandas.pydata.org/pandas-docs/stable/user_guide/indexing.html#returning-a-view-versus-a-copy\n",
      "  sedentary['Activity Level'] = 'Sedentary'\n",
      "/tmp/ipykernel_234060/1968880481.py:15: SettingWithCopyWarning: \n",
      "A value is trying to be set on a copy of a slice from a DataFrame.\n",
      "Try using .loc[row_indexer,col_indexer] = value instead\n",
      "\n",
      "See the caveats in the documentation: https://pandas.pydata.org/pandas-docs/stable/user_guide/indexing.html#returning-a-view-versus-a-copy\n",
      "  sedentary['NumActivity'] = 3\n"
     ]
    }
   ],
   "source": [
    "## Highly Active \n",
    "highlyActive = smartwatch_stress[(smartwatch_stress['Activity Level'] == 'Highly_Active') | (smartwatch_stress['Activity Level'] == 'Highly Active')]  ## Pull out rows for two unique values matching highly active\n",
    "highlyActive['Activity Level'] = 'Highly_Active'  ## Reset the text in the column to either 'Highly Active'\n",
    "highlyActive['NumActivity'] = 1 ## set the number for the numerical value \n",
    "\n",
    "\n",
    "## Active\n",
    "active = smartwatch_stress[(smartwatch_stress['Activity Level'] == 'Active') | (smartwatch_stress['Activity Level'] == 'Actve')]\n",
    "active['Activity Level'] = 'Active'\n",
    "active['NumActivity'] = 2\n",
    "\n",
    "## Sedentary \n",
    "sedentary = smartwatch_stress[(smartwatch_stress['Activity Level'] == 'Sedentary') | (smartwatch_stress['Activity Level'] == 'seddentary')]\n",
    "sedentary['Activity Level'] = 'Sedentary'\n",
    "sedentary['NumActivity'] = 3\n",
    "\n",
    "\n",
    "final_table = pd.concat([highlyActive, active, sedentary, smartwatch_stress[smartwatch_stress['Activity Level'].isnull()]])\n",
    "print(final_table)"
   ]
  },
  {
   "cell_type": "markdown",
   "metadata": {},
   "source": [
    "Let's check to make sure that we no longer have any missing values in each column (besides the Activity Level/NumActivity, Stress Level, and User ID columns). You likely either removed those rows or imputed a value to substitute the missing values. "
   ]
  },
  {
   "cell_type": "code",
   "execution_count": null,
   "metadata": {},
   "outputs": [
    {
     "data": {
      "text/plain": [
       "User ID                    161\n",
       "Heart Rate (BPM)             0\n",
       "Blood Oxygen Level (%)       0\n",
       "Step Count                   0\n",
       "Sleep Duration (hours)       0\n",
       "Activity Level             197\n",
       "Stress Level                 0\n",
       "NumActivity               1817\n",
       "dtype: int64"
      ]
     },
     "execution_count": 261,
     "metadata": {},
     "output_type": "execute_result"
    }
   ],
   "source": [
    "final_table.isnull().sum()"
   ]
  },
  {
   "cell_type": "markdown",
   "metadata": {},
   "source": [
    "Then let's use the info function to make sure each column has the data type we're expecting. "
   ]
  },
  {
   "cell_type": "code",
   "execution_count": null,
   "metadata": {},
   "outputs": [
    {
     "name": "stdout",
     "output_type": "stream",
     "text": [
      "<class 'pandas.core.frame.DataFrame'>\n",
      "Index: 8159 entries, 337 to 8059\n",
      "Data columns (total 8 columns):\n",
      " #   Column                  Non-Null Count  Dtype  \n",
      "---  ------                  --------------  -----  \n",
      " 0   User ID                 7998 non-null   float64\n",
      " 1   Heart Rate (BPM)        8159 non-null   float64\n",
      " 2   Blood Oxygen Level (%)  8159 non-null   float64\n",
      " 3   Step Count              8159 non-null   float64\n",
      " 4   Sleep Duration (hours)  8159 non-null   float64\n",
      " 5   Activity Level          7962 non-null   object \n",
      " 6   Stress Level            8159 non-null   object \n",
      " 7   NumActivity             6342 non-null   float64\n",
      "dtypes: float64(6), object(2)\n",
      "memory usage: 573.7+ KB\n"
     ]
    }
   ],
   "source": [
    "final_table.info()"
   ]
  },
  {
   "cell_type": "markdown",
   "metadata": {},
   "source": [
    "**Question 13**: \n",
    "\n",
    "Let's visualize two of the variables. Let's pick `Heart Rate (BPM)` and then you can select any other numerical variable. We're going to create a scatter plot using matplotlib.pyplot. Example code is: \n",
    "\n",
    "`plt.scatter(x, y)` where x and y are your columns of data such as df['label']\n",
    "\n",
    "Also try including a size parameter to make your points smaller to better see patterns. We'll talk more about creating figures in python in a few weeks, but for now let's just look at the broad patterns. \n",
    "\n",
    "Example of including size parameter: \n",
    "\n",
    "`plt.scatter(x, y, s=1)` Try changing the `s` parameter to 10, 1, 0.5, and 0.1. \n",
    "\n",
    "What do you notice?\n",
    "\n",
    "ANSWER:\n",
    "There seems to be no correlation between Heart Rate (BPM) and Sleep Duration, although most points seem to be around the Heart Rate of 68."
   ]
  },
  {
   "cell_type": "code",
   "execution_count": null,
   "metadata": {},
   "outputs": [
    {
     "data": {
      "text/plain": [
       "<matplotlib.collections.PathCollection at 0x7897f41d5cd0>"
      ]
     },
     "execution_count": 286,
     "metadata": {},
     "output_type": "execute_result"
    },
    {
     "data": {
      "image/png": "[encoded data removed]",
      "text/plain": [
       "<Figure size 640x480 with 1 Axes>"
      ]
     },
     "metadata": {},
     "output_type": "display_data"
    }
   ],
   "source": [
    "plt.scatter(final_table['Heart Rate (BPM)'], final_table['Sleep Duration (hours)'], s=.5)"
   ]
  },
  {
   "cell_type": "markdown",
   "metadata": {},
   "source": [
    "**Question 14**: \n",
    "\n",
    "\n",
    "Read in the CSV table where we kept all the NaN values instead of removing or imputing them. Repeat the exact same visualization as above with this data. \n",
    "\n",
    "Compare the two figures. What do you notice?\n",
    "\n",
    "ANSWER:\n",
    "The first figure looks more spread out and there is less of a pattern seen with the points. This could mean that the first figure is more varied"
   ]
  },
  {
   "cell_type": "code",
   "execution_count": null,
   "metadata": {},
   "outputs": [],
   "source": [
    "nanTable = pd.read_csv('smartwatch_nan_vals.csv')"
   ]
  },
  {
   "cell_type": "code",
   "execution_count": null,
   "metadata": {},
   "outputs": [
    {
     "data": {
      "text/plain": [
       "<matplotlib.collections.PathCollection at 0x7897f44dacf0>"
      ]
     },
     "execution_count": 287,
     "metadata": {},
     "output_type": "execute_result"
    },
    {
     "data": {
      "image/png": "[encoded data removed]",
      "text/plain": [
       "<Figure size 640x480 with 1 Axes>"
      ]
     },
     "metadata": {},
     "output_type": "display_data"
    }
   ],
   "source": [
    "plt.scatter(nanTable['Heart Rate (BPM)'], nanTable['Sleep Duration (hours)'], s=.5)"
   ]
  },
  {
   "cell_type": "markdown",
   "metadata": {},
   "source": [
    "**Question 15**: \n",
    "\n",
    "\n",
    "Does the amount of steps signficantly differ between the different activity level groups? \n",
    "\n",
    "Hint: Try using a boxplot (`sns.boxplot`) to first visualize the problem. Then you can use scipy.stats to run an ANOVA. "
   ]
  },
  {
   "cell_type": "code",
   "execution_count": 422,
   "metadata": {},
   "outputs": [
    {
     "data": {
      "text/plain": [
       "<Axes: xlabel='Activity Level', ylabel='Step Count'>"
      ]
     },
     "execution_count": 422,
     "metadata": {},
     "output_type": "execute_result"
    },
    {
     "data": {
      "image/png": "[encoded data removed]",
      "text/plain": [
       "<Figure size 640x480 with 1 Axes>"
      ]
     },
     "metadata": {},
     "output_type": "display_data"
    }
   ],
   "source": [
    "## Visualization \n",
    "sns.boxplot(x='Activity Level', y='Step Count', data=final_table)\n"
   ]
  },
  {
   "cell_type": "code",
   "execution_count": 423,
   "metadata": {},
   "outputs": [
    {
     "name": "stdout",
     "output_type": "stream",
     "text": [
      "ANOVA test statistic: 0.585, p-value: 0.557\n"
     ]
    }
   ],
   "source": [
    "from scipy.stats import f_oneway\n",
    "\n",
    "## create a table for each activity level group\n",
    "sed = final_table[final_table['Activity Level'] == 'Sedentary']  ## sedentary rows\n",
    "act = final_table[final_table['Activity Level'] == 'Active'] ## active rows\n",
    "hact = final_table[final_table['Activity Level'] == 'Highly_Active'] ## highly active rows \n",
    "\n",
    "stat, pval = f_oneway(sed['Step Count'], act['Step Count'], hact['Step Count'])\n",
    "\n",
    "\n",
    "print(f\"ANOVA test statistic: {stat:.3f}, p-value: {pval:.3f}\")\n"
   ]
  },
  {
   "cell_type": "markdown",
   "metadata": {},
   "source": [
    "Is there significant difference between the groups' step counts?  \n",
    "\n",
    "ANSWER:\n",
    "No, because the p-value is 0.557 which is greater than the significant threshold of .05 and in the historgram we see that the step counts are similar to each other between groups."
   ]
  },
  {
   "cell_type": "markdown",
   "metadata": {},
   "source": [
    "**Question 16**\n",
    "\n",
    "If you were to present your findings from this dataset to a broader audience (such as policymakers, healthcare providers, or the general public), how would you communicate key insights responsibly? What considerations would you take into account to avoid misrepresenting the data or reinforcing biases?\n",
    "\n",
    "ANSWER:\n",
    "Some findings were there seems to be no correlation between sleep duration and heart rate, and there is no big diffrence between activity groups and step counts. These are intresting findings. In order to communicate these findings responsibly we need to communicate that we should consider more context and research into these findings rather than taking them as fact since these findings do not sound accurate and if they are true we need to understand it more. Additionally, we should also talk about how we cleaned the data and how missing and outlier values may make some varibles less accurate.\n",
    "\n",
    "To avoid misinterpreting data we need to also think about the cofounds of our findings such as since there are no correlations found during sleep duration and heart rate we might consider if the watch was on during the sleep. We should also think about how the data was collected on each varible whether people inputed some of the data or if the smartwatch measured everything is important so that we can understand possible reasonings for outliers and missing values. To avoid biases we need to find out the reasonings for missing data and outliers. If patterns are found they must not be deleted and need to be researched, perhaps in seperate table\n"
   ]
  }
 ],
 "metadata": {
  "kernelspec": {
   "display_name": "Python 3",
   "language": "python",
   "name": "python3"
  },
  "language_info": {
   "codemirror_mode": {
    "name": "ipython",
    "version": 3
   },
   "file_extension": ".py",
   "mimetype": "text/x-python",
   "name": "python",
   "nbconvert_exporter": "python",
   "pygments_lexer": "ipython3",
   "version": "3.12.1"
  }
 },
 "nbformat": 4,
 "nbformat_minor": 2
}
